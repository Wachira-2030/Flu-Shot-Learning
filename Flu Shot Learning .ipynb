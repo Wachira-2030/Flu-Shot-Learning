{
 "cells": [
  {
   "cell_type": "markdown",
   "metadata": {},
   "source": [
    "## 1. Defining the question"
   ]
  },
  {
   "cell_type": "markdown",
   "metadata": {},
   "source": [
    "### a) Specifying the Data analytic Question."
   ]
  },
  {
   "cell_type": "markdown",
   "metadata": {},
   "source": [
    "An NGO in the health sector, wants to learn about the trends in the vaccination space.In the year  2009, a pandemic caused by the H1N1 influenza virus, colloquially named \"swine flu,\" swept across the world. Researchers estimate that in the first year, it was responsible for between 151,000 to 575,000 deaths globally.The Gates foundation wants to find out if they can forecast vaccination of an individual based on specific parameters.\n",
    "\n",
    "> <strong>Problem Statement:</strong>The goal of this project is to forecast whether one has received the seasonal flu vaccine."
   ]
  },
  {
   "cell_type": "markdown",
   "metadata": {},
   "source": [
    "### b) Defining the metric for success."
   ]
  },
  {
   "cell_type": "markdown",
   "metadata": {},
   "source": [
    "> Having a model of an accuracy of at least 80%"
   ]
  },
  {
   "cell_type": "markdown",
   "metadata": {},
   "source": [
    "### c) Recording the experimental Design."
   ]
  },
  {
   "cell_type": "markdown",
   "metadata": {},
   "source": [
    "- Research Question: Can one predict whether people got seasonal flu vaccine using information they shared about their backgrounds, opinions, and health behaviors?\n",
    "- Data Source: The data set was sourced from DrivenData,but was initially collected from National Center for Health Statistics,U.S. Department of Health and Human Services (DHHS). National Center for Health Statistics. The National 2009 H1N1 Flu Survey. Hyattsville, MD: Centers for Disease Control and Prevention, 2012.\n",
    "- Variables:The variables included are:'respondent_id', 'h1n1_concern', 'h1n1_knowledge',\n",
    "       'behavioral_antiviral_meds', 'behavioral_avoidance',\n",
    "       'behavioral_face_mask', 'behavioral_wash_hands',\n",
    "       'behavioral_large_gatherings', 'behavioral_outside_home',\n",
    "       'behavioral_touch_face', 'doctor_recc_h1n1', 'doctor_recc_seasonal',\n",
    "       'chronic_med_condition', 'child_under_6_months', 'health_worker',\n",
    "       'health_insurance', 'opinion_h1n1_vacc_effective', 'opinion_h1n1_risk',\n",
    "       'opinion_h1n1_sick_from_vacc', 'opinion_seas_vacc_effective',\n",
    "       'opinion_seas_risk', 'opinion_seas_sick_from_vacc', 'age_group',\n",
    "       'education', 'race', 'sex', 'income_poverty', 'marital_status',\n",
    "       'rent_or_own', 'employment_status', 'hhs_geo_region', 'census_msa',\n",
    "       'household_adults', 'household_children', 'employment_industry',\n",
    "       'employment_occupation'.\n",
    "- Model evaluation:The metrics used to evaluate the model’s performance are: accuracy,precision,recall,f-1 score.\n",
    "- Conclusions and recommendations"
   ]
  },
  {
   "cell_type": "markdown",
   "metadata": {},
   "source": [
    "## 2. Loading the data."
   ]
  },
  {
   "cell_type": "code",
   "execution_count": 2,
   "metadata": {},
   "outputs": [],
   "source": [
    "#import relevant libraries\n",
    "import pandas as pd\n",
    "import numpy as np \n",
    "import matplotlib.pyplot as plt\n",
    "import seaborn as sns \n",
    "import warnings\n",
    "warnings.filterwarnings('ignore')\n",
    "%matplotlib inline\n",
    "from scipy.stats import norm \n",
    "from scipy import stats\n",
    "from statsmodels.stats.outliers_influence import variance_inflation_factor \n",
    "from sklearn.preprocessing import LabelEncoder\n",
    "from sklearn.model_selection import train_test_split\n",
    "from sklearn.linear_model import LogisticRegression\n",
    "from sklearn.preprocessing import StandardScaler\n",
    "from sklearn.metrics import accuracy_score, precision_score, recall_score, f1_score\n",
    "from sklearn.neighbors import KNeighborsClassifier\n",
    "from sklearn.ensemble import RandomForestClassifier\n",
    "from sklearn.tree import DecisionTreeClassifier\n",
    "from sklearn.naive_bayes import GaussianNB\n",
    "from sklearn.model_selection import GridSearchCV\n",
    "from sklearn.preprocessing import StandardScaler\n",
    "import statsmodels.api as sm\n",
    "from sklearn import metrics\n",
    "from sklearn.metrics import log_loss\n",
    "from sklearn.ensemble import GradientBoostingClassifier\n",
    "from sklearn.metrics import accuracy_score"
   ]
  },
  {
   "cell_type": "code",
   "execution_count": 3,
   "metadata": {},
   "outputs": [],
   "source": [
    "#load the data sets\n",
    "test_data = pd.read_csv(\"test_set_features.csv\")\n",
    "train_data = pd.read_csv(\"training_set_features.csv\")\n",
    "train_data_labels = pd.read_csv(\"training_set_labels.csv\")"
   ]
  },
  {
   "cell_type": "code",
   "execution_count": 4,
   "metadata": {},
   "outputs": [
    {
     "data": {
      "text/html": [
       "<div>\n",
       "<style scoped>\n",
       "    .dataframe tbody tr th:only-of-type {\n",
       "        vertical-align: middle;\n",
       "    }\n",
       "\n",
       "    .dataframe tbody tr th {\n",
       "        vertical-align: top;\n",
       "    }\n",
       "\n",
       "    .dataframe thead th {\n",
       "        text-align: right;\n",
       "    }\n",
       "</style>\n",
       "<table border=\"1\" class=\"dataframe\">\n",
       "  <thead>\n",
       "    <tr style=\"text-align: right;\">\n",
       "      <th></th>\n",
       "      <th>respondent_id</th>\n",
       "      <th>h1n1_concern</th>\n",
       "      <th>h1n1_knowledge</th>\n",
       "      <th>behavioral_antiviral_meds</th>\n",
       "      <th>behavioral_avoidance</th>\n",
       "      <th>behavioral_face_mask</th>\n",
       "      <th>behavioral_wash_hands</th>\n",
       "      <th>behavioral_large_gatherings</th>\n",
       "      <th>behavioral_outside_home</th>\n",
       "      <th>behavioral_touch_face</th>\n",
       "      <th>...</th>\n",
       "      <th>income_poverty</th>\n",
       "      <th>marital_status</th>\n",
       "      <th>rent_or_own</th>\n",
       "      <th>employment_status</th>\n",
       "      <th>hhs_geo_region</th>\n",
       "      <th>census_msa</th>\n",
       "      <th>household_adults</th>\n",
       "      <th>household_children</th>\n",
       "      <th>employment_industry</th>\n",
       "      <th>employment_occupation</th>\n",
       "    </tr>\n",
       "  </thead>\n",
       "  <tbody>\n",
       "    <tr>\n",
       "      <th>0</th>\n",
       "      <td>0</td>\n",
       "      <td>1.0</td>\n",
       "      <td>0.0</td>\n",
       "      <td>0.0</td>\n",
       "      <td>0.0</td>\n",
       "      <td>0.0</td>\n",
       "      <td>0.0</td>\n",
       "      <td>0.0</td>\n",
       "      <td>1.0</td>\n",
       "      <td>1.0</td>\n",
       "      <td>...</td>\n",
       "      <td>Below Poverty</td>\n",
       "      <td>Not Married</td>\n",
       "      <td>Own</td>\n",
       "      <td>Not in Labor Force</td>\n",
       "      <td>oxchjgsf</td>\n",
       "      <td>Non-MSA</td>\n",
       "      <td>0.0</td>\n",
       "      <td>0.0</td>\n",
       "      <td>NaN</td>\n",
       "      <td>NaN</td>\n",
       "    </tr>\n",
       "    <tr>\n",
       "      <th>1</th>\n",
       "      <td>1</td>\n",
       "      <td>3.0</td>\n",
       "      <td>2.0</td>\n",
       "      <td>0.0</td>\n",
       "      <td>1.0</td>\n",
       "      <td>0.0</td>\n",
       "      <td>1.0</td>\n",
       "      <td>0.0</td>\n",
       "      <td>1.0</td>\n",
       "      <td>1.0</td>\n",
       "      <td>...</td>\n",
       "      <td>Below Poverty</td>\n",
       "      <td>Not Married</td>\n",
       "      <td>Rent</td>\n",
       "      <td>Employed</td>\n",
       "      <td>bhuqouqj</td>\n",
       "      <td>MSA, Not Principle  City</td>\n",
       "      <td>0.0</td>\n",
       "      <td>0.0</td>\n",
       "      <td>pxcmvdjn</td>\n",
       "      <td>xgwztkwe</td>\n",
       "    </tr>\n",
       "    <tr>\n",
       "      <th>2</th>\n",
       "      <td>2</td>\n",
       "      <td>1.0</td>\n",
       "      <td>1.0</td>\n",
       "      <td>0.0</td>\n",
       "      <td>1.0</td>\n",
       "      <td>0.0</td>\n",
       "      <td>0.0</td>\n",
       "      <td>0.0</td>\n",
       "      <td>0.0</td>\n",
       "      <td>0.0</td>\n",
       "      <td>...</td>\n",
       "      <td>&lt;= $75,000, Above Poverty</td>\n",
       "      <td>Not Married</td>\n",
       "      <td>Own</td>\n",
       "      <td>Employed</td>\n",
       "      <td>qufhixun</td>\n",
       "      <td>MSA, Not Principle  City</td>\n",
       "      <td>2.0</td>\n",
       "      <td>0.0</td>\n",
       "      <td>rucpziij</td>\n",
       "      <td>xtkaffoo</td>\n",
       "    </tr>\n",
       "    <tr>\n",
       "      <th>3</th>\n",
       "      <td>3</td>\n",
       "      <td>1.0</td>\n",
       "      <td>1.0</td>\n",
       "      <td>0.0</td>\n",
       "      <td>1.0</td>\n",
       "      <td>0.0</td>\n",
       "      <td>1.0</td>\n",
       "      <td>1.0</td>\n",
       "      <td>0.0</td>\n",
       "      <td>0.0</td>\n",
       "      <td>...</td>\n",
       "      <td>Below Poverty</td>\n",
       "      <td>Not Married</td>\n",
       "      <td>Rent</td>\n",
       "      <td>Not in Labor Force</td>\n",
       "      <td>lrircsnp</td>\n",
       "      <td>MSA, Principle City</td>\n",
       "      <td>0.0</td>\n",
       "      <td>0.0</td>\n",
       "      <td>NaN</td>\n",
       "      <td>NaN</td>\n",
       "    </tr>\n",
       "    <tr>\n",
       "      <th>4</th>\n",
       "      <td>4</td>\n",
       "      <td>2.0</td>\n",
       "      <td>1.0</td>\n",
       "      <td>0.0</td>\n",
       "      <td>1.0</td>\n",
       "      <td>0.0</td>\n",
       "      <td>1.0</td>\n",
       "      <td>1.0</td>\n",
       "      <td>0.0</td>\n",
       "      <td>1.0</td>\n",
       "      <td>...</td>\n",
       "      <td>&lt;= $75,000, Above Poverty</td>\n",
       "      <td>Married</td>\n",
       "      <td>Own</td>\n",
       "      <td>Employed</td>\n",
       "      <td>qufhixun</td>\n",
       "      <td>MSA, Not Principle  City</td>\n",
       "      <td>1.0</td>\n",
       "      <td>0.0</td>\n",
       "      <td>wxleyezf</td>\n",
       "      <td>emcorrxb</td>\n",
       "    </tr>\n",
       "  </tbody>\n",
       "</table>\n",
       "<p>5 rows × 36 columns</p>\n",
       "</div>"
      ],
      "text/plain": [
       "   respondent_id  h1n1_concern  h1n1_knowledge  behavioral_antiviral_meds  \\\n",
       "0              0           1.0             0.0                        0.0   \n",
       "1              1           3.0             2.0                        0.0   \n",
       "2              2           1.0             1.0                        0.0   \n",
       "3              3           1.0             1.0                        0.0   \n",
       "4              4           2.0             1.0                        0.0   \n",
       "\n",
       "   behavioral_avoidance  behavioral_face_mask  behavioral_wash_hands  \\\n",
       "0                   0.0                   0.0                    0.0   \n",
       "1                   1.0                   0.0                    1.0   \n",
       "2                   1.0                   0.0                    0.0   \n",
       "3                   1.0                   0.0                    1.0   \n",
       "4                   1.0                   0.0                    1.0   \n",
       "\n",
       "   behavioral_large_gatherings  behavioral_outside_home  \\\n",
       "0                          0.0                      1.0   \n",
       "1                          0.0                      1.0   \n",
       "2                          0.0                      0.0   \n",
       "3                          1.0                      0.0   \n",
       "4                          1.0                      0.0   \n",
       "\n",
       "   behavioral_touch_face  ...             income_poverty  marital_status  \\\n",
       "0                    1.0  ...              Below Poverty     Not Married   \n",
       "1                    1.0  ...              Below Poverty     Not Married   \n",
       "2                    0.0  ...  <= $75,000, Above Poverty     Not Married   \n",
       "3                    0.0  ...              Below Poverty     Not Married   \n",
       "4                    1.0  ...  <= $75,000, Above Poverty         Married   \n",
       "\n",
       "   rent_or_own   employment_status  hhs_geo_region                census_msa  \\\n",
       "0          Own  Not in Labor Force        oxchjgsf                   Non-MSA   \n",
       "1         Rent            Employed        bhuqouqj  MSA, Not Principle  City   \n",
       "2          Own            Employed        qufhixun  MSA, Not Principle  City   \n",
       "3         Rent  Not in Labor Force        lrircsnp       MSA, Principle City   \n",
       "4          Own            Employed        qufhixun  MSA, Not Principle  City   \n",
       "\n",
       "   household_adults  household_children  employment_industry  \\\n",
       "0               0.0                 0.0                  NaN   \n",
       "1               0.0                 0.0             pxcmvdjn   \n",
       "2               2.0                 0.0             rucpziij   \n",
       "3               0.0                 0.0                  NaN   \n",
       "4               1.0                 0.0             wxleyezf   \n",
       "\n",
       "   employment_occupation  \n",
       "0                    NaN  \n",
       "1               xgwztkwe  \n",
       "2               xtkaffoo  \n",
       "3                    NaN  \n",
       "4               emcorrxb  \n",
       "\n",
       "[5 rows x 36 columns]"
      ]
     },
     "execution_count": 4,
     "metadata": {},
     "output_type": "execute_result"
    }
   ],
   "source": [
    "#display the training data\n",
    "train_data.head()"
   ]
  },
  {
   "cell_type": "markdown",
   "metadata": {},
   "source": [
    "## 3. Data Understanding"
   ]
  },
  {
   "cell_type": "markdown",
   "metadata": {},
   "source": [
    "The data in use is from [Datadriven](https://www.drivendata.org/competitions/66/flu-shot-learning/data/) made up of 26707 rows and 36 columns(12 categorical columns and 24 are numerical.)\n",
    "Nanely:\n",
    "- 'respondent_id'- Unique id\n",
    "- 'h1n1_concern'- the concern one has about the virus. \n",
    "- 'h1n1_knowledge'- knowledge they have about the H1N1 virus.\n",
    "- 'behavioral_antiviral_meds'- If they believe in anti-vaccination.\n",
    "- 'behavioral_avoidance'-do they avoid roaming in public.\n",
    "- 'behavioral_face_mask'- do they wear a face mask.\n",
    "- 'behavioral_wash_hands'- do they regularly wash their hands.\n",
    "- 'behavioral_large_gatherings'- do they tend to be in gatherings.\n",
    "- 'behavioral_outside_home'- are they usually outdoors.\n",
    "- 'behavioral_touch_face'- do they touch their faces often.\n",
    "- 'doctor_recc_h1n1'- \n",
    "- 'doctor_recc_seasonal',\n",
    "- 'chronic_med_condition', \n",
    "- 'child_under_6_months', \n",
    "- 'health_worker',\n",
    "- 'health_insurance',\n",
    "- 'opinion_h1n1_vacc_effective', \n",
    "- 'opinion_h1n1_risk',\n",
    "- 'opinion_h1n1_sick_from_vacc',\n",
    "- 'opinion_seas_vacc_effective',\n",
    "- 'opinion_seas_risk',\n",
    "- 'opinion_seas_sick_from_vacc',\n",
    "- 'age_group'- their age group.\n",
    "- 'education'- level of education \n",
    "- 'race'- their race\n",
    "- 'sex' - their gender\n",
    "- 'income_poverty'- \n",
    "- 'marital_status'- whether they are married or not.\n",
    "- 'rent_or_own'- if they rent or own a house.\n",
    "- 'employment_status'- whether they are employed\n",
    "- 'hhs_geo_region',\n",
    "- 'census_msa'- geographical region\n",
    "- 'household_adults'-number of adults in the house.\n",
    "- 'household_children'-number of children in the house.\n",
    "- 'employment_industry'-industr of employment.\n",
    "- 'employment_occupation'- what they do for a living."
   ]
  },
  {
   "cell_type": "code",
   "execution_count": 5,
   "metadata": {},
   "outputs": [
    {
     "data": {
      "text/html": [
       "<div>\n",
       "<style scoped>\n",
       "    .dataframe tbody tr th:only-of-type {\n",
       "        vertical-align: middle;\n",
       "    }\n",
       "\n",
       "    .dataframe tbody tr th {\n",
       "        vertical-align: top;\n",
       "    }\n",
       "\n",
       "    .dataframe thead th {\n",
       "        text-align: right;\n",
       "    }\n",
       "</style>\n",
       "<table border=\"1\" class=\"dataframe\">\n",
       "  <thead>\n",
       "    <tr style=\"text-align: right;\">\n",
       "      <th></th>\n",
       "      <th>respondent_id</th>\n",
       "      <th>h1n1_concern</th>\n",
       "      <th>h1n1_knowledge</th>\n",
       "      <th>behavioral_antiviral_meds</th>\n",
       "      <th>behavioral_avoidance</th>\n",
       "      <th>behavioral_face_mask</th>\n",
       "      <th>behavioral_wash_hands</th>\n",
       "      <th>behavioral_large_gatherings</th>\n",
       "      <th>behavioral_outside_home</th>\n",
       "      <th>behavioral_touch_face</th>\n",
       "      <th>...</th>\n",
       "      <th>income_poverty</th>\n",
       "      <th>marital_status</th>\n",
       "      <th>rent_or_own</th>\n",
       "      <th>employment_status</th>\n",
       "      <th>hhs_geo_region</th>\n",
       "      <th>census_msa</th>\n",
       "      <th>household_adults</th>\n",
       "      <th>household_children</th>\n",
       "      <th>employment_industry</th>\n",
       "      <th>employment_occupation</th>\n",
       "    </tr>\n",
       "  </thead>\n",
       "  <tbody>\n",
       "    <tr>\n",
       "      <th>26702</th>\n",
       "      <td>26702</td>\n",
       "      <td>2.0</td>\n",
       "      <td>0.0</td>\n",
       "      <td>0.0</td>\n",
       "      <td>1.0</td>\n",
       "      <td>0.0</td>\n",
       "      <td>0.0</td>\n",
       "      <td>0.0</td>\n",
       "      <td>1.0</td>\n",
       "      <td>0.0</td>\n",
       "      <td>...</td>\n",
       "      <td>&lt;= $75,000, Above Poverty</td>\n",
       "      <td>Not Married</td>\n",
       "      <td>Own</td>\n",
       "      <td>Not in Labor Force</td>\n",
       "      <td>qufhixun</td>\n",
       "      <td>Non-MSA</td>\n",
       "      <td>0.0</td>\n",
       "      <td>0.0</td>\n",
       "      <td>NaN</td>\n",
       "      <td>NaN</td>\n",
       "    </tr>\n",
       "    <tr>\n",
       "      <th>26703</th>\n",
       "      <td>26703</td>\n",
       "      <td>1.0</td>\n",
       "      <td>2.0</td>\n",
       "      <td>0.0</td>\n",
       "      <td>1.0</td>\n",
       "      <td>0.0</td>\n",
       "      <td>1.0</td>\n",
       "      <td>0.0</td>\n",
       "      <td>0.0</td>\n",
       "      <td>0.0</td>\n",
       "      <td>...</td>\n",
       "      <td>&lt;= $75,000, Above Poverty</td>\n",
       "      <td>Not Married</td>\n",
       "      <td>Rent</td>\n",
       "      <td>Employed</td>\n",
       "      <td>lzgpxyit</td>\n",
       "      <td>MSA, Principle City</td>\n",
       "      <td>1.0</td>\n",
       "      <td>0.0</td>\n",
       "      <td>fcxhlnwr</td>\n",
       "      <td>cmhcxjea</td>\n",
       "    </tr>\n",
       "    <tr>\n",
       "      <th>26704</th>\n",
       "      <td>26704</td>\n",
       "      <td>2.0</td>\n",
       "      <td>2.0</td>\n",
       "      <td>0.0</td>\n",
       "      <td>1.0</td>\n",
       "      <td>1.0</td>\n",
       "      <td>1.0</td>\n",
       "      <td>1.0</td>\n",
       "      <td>0.0</td>\n",
       "      <td>1.0</td>\n",
       "      <td>...</td>\n",
       "      <td>NaN</td>\n",
       "      <td>Not Married</td>\n",
       "      <td>Own</td>\n",
       "      <td>NaN</td>\n",
       "      <td>lzgpxyit</td>\n",
       "      <td>MSA, Not Principle  City</td>\n",
       "      <td>0.0</td>\n",
       "      <td>0.0</td>\n",
       "      <td>NaN</td>\n",
       "      <td>NaN</td>\n",
       "    </tr>\n",
       "    <tr>\n",
       "      <th>26705</th>\n",
       "      <td>26705</td>\n",
       "      <td>1.0</td>\n",
       "      <td>1.0</td>\n",
       "      <td>0.0</td>\n",
       "      <td>0.0</td>\n",
       "      <td>0.0</td>\n",
       "      <td>0.0</td>\n",
       "      <td>0.0</td>\n",
       "      <td>0.0</td>\n",
       "      <td>NaN</td>\n",
       "      <td>...</td>\n",
       "      <td>&lt;= $75,000, Above Poverty</td>\n",
       "      <td>Married</td>\n",
       "      <td>Rent</td>\n",
       "      <td>Employed</td>\n",
       "      <td>lrircsnp</td>\n",
       "      <td>Non-MSA</td>\n",
       "      <td>1.0</td>\n",
       "      <td>0.0</td>\n",
       "      <td>fcxhlnwr</td>\n",
       "      <td>haliazsg</td>\n",
       "    </tr>\n",
       "    <tr>\n",
       "      <th>26706</th>\n",
       "      <td>26706</td>\n",
       "      <td>0.0</td>\n",
       "      <td>0.0</td>\n",
       "      <td>0.0</td>\n",
       "      <td>1.0</td>\n",
       "      <td>0.0</td>\n",
       "      <td>0.0</td>\n",
       "      <td>0.0</td>\n",
       "      <td>0.0</td>\n",
       "      <td>0.0</td>\n",
       "      <td>...</td>\n",
       "      <td>&lt;= $75,000, Above Poverty</td>\n",
       "      <td>Married</td>\n",
       "      <td>Own</td>\n",
       "      <td>Not in Labor Force</td>\n",
       "      <td>mlyzmhmf</td>\n",
       "      <td>MSA, Principle City</td>\n",
       "      <td>1.0</td>\n",
       "      <td>0.0</td>\n",
       "      <td>NaN</td>\n",
       "      <td>NaN</td>\n",
       "    </tr>\n",
       "  </tbody>\n",
       "</table>\n",
       "<p>5 rows × 36 columns</p>\n",
       "</div>"
      ],
      "text/plain": [
       "       respondent_id  h1n1_concern  h1n1_knowledge  behavioral_antiviral_meds  \\\n",
       "26702          26702           2.0             0.0                        0.0   \n",
       "26703          26703           1.0             2.0                        0.0   \n",
       "26704          26704           2.0             2.0                        0.0   \n",
       "26705          26705           1.0             1.0                        0.0   \n",
       "26706          26706           0.0             0.0                        0.0   \n",
       "\n",
       "       behavioral_avoidance  behavioral_face_mask  behavioral_wash_hands  \\\n",
       "26702                   1.0                   0.0                    0.0   \n",
       "26703                   1.0                   0.0                    1.0   \n",
       "26704                   1.0                   1.0                    1.0   \n",
       "26705                   0.0                   0.0                    0.0   \n",
       "26706                   1.0                   0.0                    0.0   \n",
       "\n",
       "       behavioral_large_gatherings  behavioral_outside_home  \\\n",
       "26702                          0.0                      1.0   \n",
       "26703                          0.0                      0.0   \n",
       "26704                          1.0                      0.0   \n",
       "26705                          0.0                      0.0   \n",
       "26706                          0.0                      0.0   \n",
       "\n",
       "       behavioral_touch_face  ...             income_poverty  marital_status  \\\n",
       "26702                    0.0  ...  <= $75,000, Above Poverty     Not Married   \n",
       "26703                    0.0  ...  <= $75,000, Above Poverty     Not Married   \n",
       "26704                    1.0  ...                        NaN     Not Married   \n",
       "26705                    NaN  ...  <= $75,000, Above Poverty         Married   \n",
       "26706                    0.0  ...  <= $75,000, Above Poverty         Married   \n",
       "\n",
       "       rent_or_own   employment_status  hhs_geo_region  \\\n",
       "26702          Own  Not in Labor Force        qufhixun   \n",
       "26703         Rent            Employed        lzgpxyit   \n",
       "26704          Own                 NaN        lzgpxyit   \n",
       "26705         Rent            Employed        lrircsnp   \n",
       "26706          Own  Not in Labor Force        mlyzmhmf   \n",
       "\n",
       "                     census_msa  household_adults  household_children  \\\n",
       "26702                   Non-MSA               0.0                 0.0   \n",
       "26703       MSA, Principle City               1.0                 0.0   \n",
       "26704  MSA, Not Principle  City               0.0                 0.0   \n",
       "26705                   Non-MSA               1.0                 0.0   \n",
       "26706       MSA, Principle City               1.0                 0.0   \n",
       "\n",
       "       employment_industry  employment_occupation  \n",
       "26702                  NaN                    NaN  \n",
       "26703             fcxhlnwr               cmhcxjea  \n",
       "26704                  NaN                    NaN  \n",
       "26705             fcxhlnwr               haliazsg  \n",
       "26706                  NaN                    NaN  \n",
       "\n",
       "[5 rows x 36 columns]"
      ]
     },
     "execution_count": 5,
     "metadata": {},
     "output_type": "execute_result"
    }
   ],
   "source": [
    "#previewing the bottom of the data set.\n",
    "train_data.tail()"
   ]
  },
  {
   "cell_type": "code",
   "execution_count": 6,
   "metadata": {},
   "outputs": [
    {
     "data": {
      "text/html": [
       "<div>\n",
       "<style scoped>\n",
       "    .dataframe tbody tr th:only-of-type {\n",
       "        vertical-align: middle;\n",
       "    }\n",
       "\n",
       "    .dataframe tbody tr th {\n",
       "        vertical-align: top;\n",
       "    }\n",
       "\n",
       "    .dataframe thead th {\n",
       "        text-align: right;\n",
       "    }\n",
       "</style>\n",
       "<table border=\"1\" class=\"dataframe\">\n",
       "  <thead>\n",
       "    <tr style=\"text-align: right;\">\n",
       "      <th></th>\n",
       "      <th>respondent_id</th>\n",
       "      <th>h1n1_concern</th>\n",
       "      <th>h1n1_knowledge</th>\n",
       "      <th>behavioral_antiviral_meds</th>\n",
       "      <th>behavioral_avoidance</th>\n",
       "      <th>behavioral_face_mask</th>\n",
       "      <th>behavioral_wash_hands</th>\n",
       "      <th>behavioral_large_gatherings</th>\n",
       "      <th>behavioral_outside_home</th>\n",
       "      <th>behavioral_touch_face</th>\n",
       "      <th>...</th>\n",
       "      <th>income_poverty</th>\n",
       "      <th>marital_status</th>\n",
       "      <th>rent_or_own</th>\n",
       "      <th>employment_status</th>\n",
       "      <th>hhs_geo_region</th>\n",
       "      <th>census_msa</th>\n",
       "      <th>household_adults</th>\n",
       "      <th>household_children</th>\n",
       "      <th>employment_industry</th>\n",
       "      <th>employment_occupation</th>\n",
       "    </tr>\n",
       "  </thead>\n",
       "  <tbody>\n",
       "    <tr>\n",
       "      <th>count</th>\n",
       "      <td>26707.000000</td>\n",
       "      <td>26615.000000</td>\n",
       "      <td>26591.000000</td>\n",
       "      <td>26636.000000</td>\n",
       "      <td>26499.000000</td>\n",
       "      <td>26688.000000</td>\n",
       "      <td>26665.000000</td>\n",
       "      <td>26620.00000</td>\n",
       "      <td>26625.000000</td>\n",
       "      <td>26579.000000</td>\n",
       "      <td>...</td>\n",
       "      <td>22284</td>\n",
       "      <td>25299</td>\n",
       "      <td>24665</td>\n",
       "      <td>25244</td>\n",
       "      <td>26707</td>\n",
       "      <td>26707</td>\n",
       "      <td>26458.000000</td>\n",
       "      <td>26458.000000</td>\n",
       "      <td>13377</td>\n",
       "      <td>13237</td>\n",
       "    </tr>\n",
       "    <tr>\n",
       "      <th>unique</th>\n",
       "      <td>NaN</td>\n",
       "      <td>NaN</td>\n",
       "      <td>NaN</td>\n",
       "      <td>NaN</td>\n",
       "      <td>NaN</td>\n",
       "      <td>NaN</td>\n",
       "      <td>NaN</td>\n",
       "      <td>NaN</td>\n",
       "      <td>NaN</td>\n",
       "      <td>NaN</td>\n",
       "      <td>...</td>\n",
       "      <td>3</td>\n",
       "      <td>2</td>\n",
       "      <td>2</td>\n",
       "      <td>3</td>\n",
       "      <td>10</td>\n",
       "      <td>3</td>\n",
       "      <td>NaN</td>\n",
       "      <td>NaN</td>\n",
       "      <td>21</td>\n",
       "      <td>23</td>\n",
       "    </tr>\n",
       "    <tr>\n",
       "      <th>top</th>\n",
       "      <td>NaN</td>\n",
       "      <td>NaN</td>\n",
       "      <td>NaN</td>\n",
       "      <td>NaN</td>\n",
       "      <td>NaN</td>\n",
       "      <td>NaN</td>\n",
       "      <td>NaN</td>\n",
       "      <td>NaN</td>\n",
       "      <td>NaN</td>\n",
       "      <td>NaN</td>\n",
       "      <td>...</td>\n",
       "      <td>&lt;= $75,000, Above Poverty</td>\n",
       "      <td>Married</td>\n",
       "      <td>Own</td>\n",
       "      <td>Employed</td>\n",
       "      <td>lzgpxyit</td>\n",
       "      <td>MSA, Not Principle  City</td>\n",
       "      <td>NaN</td>\n",
       "      <td>NaN</td>\n",
       "      <td>fcxhlnwr</td>\n",
       "      <td>xtkaffoo</td>\n",
       "    </tr>\n",
       "    <tr>\n",
       "      <th>freq</th>\n",
       "      <td>NaN</td>\n",
       "      <td>NaN</td>\n",
       "      <td>NaN</td>\n",
       "      <td>NaN</td>\n",
       "      <td>NaN</td>\n",
       "      <td>NaN</td>\n",
       "      <td>NaN</td>\n",
       "      <td>NaN</td>\n",
       "      <td>NaN</td>\n",
       "      <td>NaN</td>\n",
       "      <td>...</td>\n",
       "      <td>12777</td>\n",
       "      <td>13555</td>\n",
       "      <td>18736</td>\n",
       "      <td>13560</td>\n",
       "      <td>4297</td>\n",
       "      <td>11645</td>\n",
       "      <td>NaN</td>\n",
       "      <td>NaN</td>\n",
       "      <td>2468</td>\n",
       "      <td>1778</td>\n",
       "    </tr>\n",
       "    <tr>\n",
       "      <th>mean</th>\n",
       "      <td>13353.000000</td>\n",
       "      <td>1.618486</td>\n",
       "      <td>1.262532</td>\n",
       "      <td>0.048844</td>\n",
       "      <td>0.725612</td>\n",
       "      <td>0.068982</td>\n",
       "      <td>0.825614</td>\n",
       "      <td>0.35864</td>\n",
       "      <td>0.337315</td>\n",
       "      <td>0.677264</td>\n",
       "      <td>...</td>\n",
       "      <td>NaN</td>\n",
       "      <td>NaN</td>\n",
       "      <td>NaN</td>\n",
       "      <td>NaN</td>\n",
       "      <td>NaN</td>\n",
       "      <td>NaN</td>\n",
       "      <td>0.886499</td>\n",
       "      <td>0.534583</td>\n",
       "      <td>NaN</td>\n",
       "      <td>NaN</td>\n",
       "    </tr>\n",
       "    <tr>\n",
       "      <th>std</th>\n",
       "      <td>7709.791156</td>\n",
       "      <td>0.910311</td>\n",
       "      <td>0.618149</td>\n",
       "      <td>0.215545</td>\n",
       "      <td>0.446214</td>\n",
       "      <td>0.253429</td>\n",
       "      <td>0.379448</td>\n",
       "      <td>0.47961</td>\n",
       "      <td>0.472802</td>\n",
       "      <td>0.467531</td>\n",
       "      <td>...</td>\n",
       "      <td>NaN</td>\n",
       "      <td>NaN</td>\n",
       "      <td>NaN</td>\n",
       "      <td>NaN</td>\n",
       "      <td>NaN</td>\n",
       "      <td>NaN</td>\n",
       "      <td>0.753422</td>\n",
       "      <td>0.928173</td>\n",
       "      <td>NaN</td>\n",
       "      <td>NaN</td>\n",
       "    </tr>\n",
       "    <tr>\n",
       "      <th>min</th>\n",
       "      <td>0.000000</td>\n",
       "      <td>0.000000</td>\n",
       "      <td>0.000000</td>\n",
       "      <td>0.000000</td>\n",
       "      <td>0.000000</td>\n",
       "      <td>0.000000</td>\n",
       "      <td>0.000000</td>\n",
       "      <td>0.00000</td>\n",
       "      <td>0.000000</td>\n",
       "      <td>0.000000</td>\n",
       "      <td>...</td>\n",
       "      <td>NaN</td>\n",
       "      <td>NaN</td>\n",
       "      <td>NaN</td>\n",
       "      <td>NaN</td>\n",
       "      <td>NaN</td>\n",
       "      <td>NaN</td>\n",
       "      <td>0.000000</td>\n",
       "      <td>0.000000</td>\n",
       "      <td>NaN</td>\n",
       "      <td>NaN</td>\n",
       "    </tr>\n",
       "    <tr>\n",
       "      <th>25%</th>\n",
       "      <td>6676.500000</td>\n",
       "      <td>1.000000</td>\n",
       "      <td>1.000000</td>\n",
       "      <td>0.000000</td>\n",
       "      <td>0.000000</td>\n",
       "      <td>0.000000</td>\n",
       "      <td>1.000000</td>\n",
       "      <td>0.00000</td>\n",
       "      <td>0.000000</td>\n",
       "      <td>0.000000</td>\n",
       "      <td>...</td>\n",
       "      <td>NaN</td>\n",
       "      <td>NaN</td>\n",
       "      <td>NaN</td>\n",
       "      <td>NaN</td>\n",
       "      <td>NaN</td>\n",
       "      <td>NaN</td>\n",
       "      <td>0.000000</td>\n",
       "      <td>0.000000</td>\n",
       "      <td>NaN</td>\n",
       "      <td>NaN</td>\n",
       "    </tr>\n",
       "    <tr>\n",
       "      <th>50%</th>\n",
       "      <td>13353.000000</td>\n",
       "      <td>2.000000</td>\n",
       "      <td>1.000000</td>\n",
       "      <td>0.000000</td>\n",
       "      <td>1.000000</td>\n",
       "      <td>0.000000</td>\n",
       "      <td>1.000000</td>\n",
       "      <td>0.00000</td>\n",
       "      <td>0.000000</td>\n",
       "      <td>1.000000</td>\n",
       "      <td>...</td>\n",
       "      <td>NaN</td>\n",
       "      <td>NaN</td>\n",
       "      <td>NaN</td>\n",
       "      <td>NaN</td>\n",
       "      <td>NaN</td>\n",
       "      <td>NaN</td>\n",
       "      <td>1.000000</td>\n",
       "      <td>0.000000</td>\n",
       "      <td>NaN</td>\n",
       "      <td>NaN</td>\n",
       "    </tr>\n",
       "    <tr>\n",
       "      <th>75%</th>\n",
       "      <td>20029.500000</td>\n",
       "      <td>2.000000</td>\n",
       "      <td>2.000000</td>\n",
       "      <td>0.000000</td>\n",
       "      <td>1.000000</td>\n",
       "      <td>0.000000</td>\n",
       "      <td>1.000000</td>\n",
       "      <td>1.00000</td>\n",
       "      <td>1.000000</td>\n",
       "      <td>1.000000</td>\n",
       "      <td>...</td>\n",
       "      <td>NaN</td>\n",
       "      <td>NaN</td>\n",
       "      <td>NaN</td>\n",
       "      <td>NaN</td>\n",
       "      <td>NaN</td>\n",
       "      <td>NaN</td>\n",
       "      <td>1.000000</td>\n",
       "      <td>1.000000</td>\n",
       "      <td>NaN</td>\n",
       "      <td>NaN</td>\n",
       "    </tr>\n",
       "    <tr>\n",
       "      <th>max</th>\n",
       "      <td>26706.000000</td>\n",
       "      <td>3.000000</td>\n",
       "      <td>2.000000</td>\n",
       "      <td>1.000000</td>\n",
       "      <td>1.000000</td>\n",
       "      <td>1.000000</td>\n",
       "      <td>1.000000</td>\n",
       "      <td>1.00000</td>\n",
       "      <td>1.000000</td>\n",
       "      <td>1.000000</td>\n",
       "      <td>...</td>\n",
       "      <td>NaN</td>\n",
       "      <td>NaN</td>\n",
       "      <td>NaN</td>\n",
       "      <td>NaN</td>\n",
       "      <td>NaN</td>\n",
       "      <td>NaN</td>\n",
       "      <td>3.000000</td>\n",
       "      <td>3.000000</td>\n",
       "      <td>NaN</td>\n",
       "      <td>NaN</td>\n",
       "    </tr>\n",
       "  </tbody>\n",
       "</table>\n",
       "<p>11 rows × 36 columns</p>\n",
       "</div>"
      ],
      "text/plain": [
       "        respondent_id  h1n1_concern  h1n1_knowledge  \\\n",
       "count    26707.000000  26615.000000    26591.000000   \n",
       "unique            NaN           NaN             NaN   \n",
       "top               NaN           NaN             NaN   \n",
       "freq              NaN           NaN             NaN   \n",
       "mean     13353.000000      1.618486        1.262532   \n",
       "std       7709.791156      0.910311        0.618149   \n",
       "min          0.000000      0.000000        0.000000   \n",
       "25%       6676.500000      1.000000        1.000000   \n",
       "50%      13353.000000      2.000000        1.000000   \n",
       "75%      20029.500000      2.000000        2.000000   \n",
       "max      26706.000000      3.000000        2.000000   \n",
       "\n",
       "        behavioral_antiviral_meds  behavioral_avoidance  behavioral_face_mask  \\\n",
       "count                26636.000000          26499.000000          26688.000000   \n",
       "unique                        NaN                   NaN                   NaN   \n",
       "top                           NaN                   NaN                   NaN   \n",
       "freq                          NaN                   NaN                   NaN   \n",
       "mean                     0.048844              0.725612              0.068982   \n",
       "std                      0.215545              0.446214              0.253429   \n",
       "min                      0.000000              0.000000              0.000000   \n",
       "25%                      0.000000              0.000000              0.000000   \n",
       "50%                      0.000000              1.000000              0.000000   \n",
       "75%                      0.000000              1.000000              0.000000   \n",
       "max                      1.000000              1.000000              1.000000   \n",
       "\n",
       "        behavioral_wash_hands  behavioral_large_gatherings  \\\n",
       "count            26665.000000                  26620.00000   \n",
       "unique                    NaN                          NaN   \n",
       "top                       NaN                          NaN   \n",
       "freq                      NaN                          NaN   \n",
       "mean                 0.825614                      0.35864   \n",
       "std                  0.379448                      0.47961   \n",
       "min                  0.000000                      0.00000   \n",
       "25%                  1.000000                      0.00000   \n",
       "50%                  1.000000                      0.00000   \n",
       "75%                  1.000000                      1.00000   \n",
       "max                  1.000000                      1.00000   \n",
       "\n",
       "        behavioral_outside_home  behavioral_touch_face  ...  \\\n",
       "count              26625.000000           26579.000000  ...   \n",
       "unique                      NaN                    NaN  ...   \n",
       "top                         NaN                    NaN  ...   \n",
       "freq                        NaN                    NaN  ...   \n",
       "mean                   0.337315               0.677264  ...   \n",
       "std                    0.472802               0.467531  ...   \n",
       "min                    0.000000               0.000000  ...   \n",
       "25%                    0.000000               0.000000  ...   \n",
       "50%                    0.000000               1.000000  ...   \n",
       "75%                    1.000000               1.000000  ...   \n",
       "max                    1.000000               1.000000  ...   \n",
       "\n",
       "                   income_poverty  marital_status  rent_or_own  \\\n",
       "count                       22284           25299        24665   \n",
       "unique                          3               2            2   \n",
       "top     <= $75,000, Above Poverty         Married          Own   \n",
       "freq                        12777           13555        18736   \n",
       "mean                          NaN             NaN          NaN   \n",
       "std                           NaN             NaN          NaN   \n",
       "min                           NaN             NaN          NaN   \n",
       "25%                           NaN             NaN          NaN   \n",
       "50%                           NaN             NaN          NaN   \n",
       "75%                           NaN             NaN          NaN   \n",
       "max                           NaN             NaN          NaN   \n",
       "\n",
       "        employment_status  hhs_geo_region                census_msa  \\\n",
       "count               25244           26707                     26707   \n",
       "unique                  3              10                         3   \n",
       "top              Employed        lzgpxyit  MSA, Not Principle  City   \n",
       "freq                13560            4297                     11645   \n",
       "mean                  NaN             NaN                       NaN   \n",
       "std                   NaN             NaN                       NaN   \n",
       "min                   NaN             NaN                       NaN   \n",
       "25%                   NaN             NaN                       NaN   \n",
       "50%                   NaN             NaN                       NaN   \n",
       "75%                   NaN             NaN                       NaN   \n",
       "max                   NaN             NaN                       NaN   \n",
       "\n",
       "        household_adults  household_children  employment_industry  \\\n",
       "count       26458.000000        26458.000000                13377   \n",
       "unique               NaN                 NaN                   21   \n",
       "top                  NaN                 NaN             fcxhlnwr   \n",
       "freq                 NaN                 NaN                 2468   \n",
       "mean            0.886499            0.534583                  NaN   \n",
       "std             0.753422            0.928173                  NaN   \n",
       "min             0.000000            0.000000                  NaN   \n",
       "25%             0.000000            0.000000                  NaN   \n",
       "50%             1.000000            0.000000                  NaN   \n",
       "75%             1.000000            1.000000                  NaN   \n",
       "max             3.000000            3.000000                  NaN   \n",
       "\n",
       "        employment_occupation  \n",
       "count                   13237  \n",
       "unique                     23  \n",
       "top                  xtkaffoo  \n",
       "freq                     1778  \n",
       "mean                      NaN  \n",
       "std                       NaN  \n",
       "min                       NaN  \n",
       "25%                       NaN  \n",
       "50%                       NaN  \n",
       "75%                       NaN  \n",
       "max                       NaN  \n",
       "\n",
       "[11 rows x 36 columns]"
      ]
     },
     "execution_count": 6,
     "metadata": {},
     "output_type": "execute_result"
    }
   ],
   "source": [
    "#Exploring the descriptive statistics of the variables \n",
    "train_data.describe(include=\"all\")"
   ]
  },
  {
   "cell_type": "code",
   "execution_count": 7,
   "metadata": {},
   "outputs": [
    {
     "name": "stdout",
     "output_type": "stream",
     "text": [
      "<class 'pandas.core.frame.DataFrame'>\n",
      "RangeIndex: 26707 entries, 0 to 26706\n",
      "Data columns (total 36 columns):\n",
      " #   Column                       Non-Null Count  Dtype  \n",
      "---  ------                       --------------  -----  \n",
      " 0   respondent_id                26707 non-null  int64  \n",
      " 1   h1n1_concern                 26615 non-null  float64\n",
      " 2   h1n1_knowledge               26591 non-null  float64\n",
      " 3   behavioral_antiviral_meds    26636 non-null  float64\n",
      " 4   behavioral_avoidance         26499 non-null  float64\n",
      " 5   behavioral_face_mask         26688 non-null  float64\n",
      " 6   behavioral_wash_hands        26665 non-null  float64\n",
      " 7   behavioral_large_gatherings  26620 non-null  float64\n",
      " 8   behavioral_outside_home      26625 non-null  float64\n",
      " 9   behavioral_touch_face        26579 non-null  float64\n",
      " 10  doctor_recc_h1n1             24547 non-null  float64\n",
      " 11  doctor_recc_seasonal         24547 non-null  float64\n",
      " 12  chronic_med_condition        25736 non-null  float64\n",
      " 13  child_under_6_months         25887 non-null  float64\n",
      " 14  health_worker                25903 non-null  float64\n",
      " 15  health_insurance             14433 non-null  float64\n",
      " 16  opinion_h1n1_vacc_effective  26316 non-null  float64\n",
      " 17  opinion_h1n1_risk            26319 non-null  float64\n",
      " 18  opinion_h1n1_sick_from_vacc  26312 non-null  float64\n",
      " 19  opinion_seas_vacc_effective  26245 non-null  float64\n",
      " 20  opinion_seas_risk            26193 non-null  float64\n",
      " 21  opinion_seas_sick_from_vacc  26170 non-null  float64\n",
      " 22  age_group                    26707 non-null  object \n",
      " 23  education                    25300 non-null  object \n",
      " 24  race                         26707 non-null  object \n",
      " 25  sex                          26707 non-null  object \n",
      " 26  income_poverty               22284 non-null  object \n",
      " 27  marital_status               25299 non-null  object \n",
      " 28  rent_or_own                  24665 non-null  object \n",
      " 29  employment_status            25244 non-null  object \n",
      " 30  hhs_geo_region               26707 non-null  object \n",
      " 31  census_msa                   26707 non-null  object \n",
      " 32  household_adults             26458 non-null  float64\n",
      " 33  household_children           26458 non-null  float64\n",
      " 34  employment_industry          13377 non-null  object \n",
      " 35  employment_occupation        13237 non-null  object \n",
      "dtypes: float64(23), int64(1), object(12)\n",
      "memory usage: 7.3+ MB\n"
     ]
    }
   ],
   "source": [
    "#check data set info\n",
    "train_data.info()"
   ]
  },
  {
   "cell_type": "code",
   "execution_count": 8,
   "metadata": {},
   "outputs": [
    {
     "data": {
      "text/plain": [
       "(26707, 36)"
      ]
     },
     "execution_count": 8,
     "metadata": {},
     "output_type": "execute_result"
    }
   ],
   "source": [
    "#Determining the number of records in our dataset\n",
    "train_data.shape"
   ]
  },
  {
   "cell_type": "markdown",
   "metadata": {},
   "source": [
    "## 4. External Data Source Validation"
   ]
  },
  {
   "cell_type": "markdown",
   "metadata": {},
   "source": [
    "The Centers for Disease Control and Prevention (CDC) estimates that each year, on average, 5% to 20% of the U.S. population contracts the flu, resulting in about 31.4 million outpatient visits and more than 200,000 hospitalizations.Each year, seasonal flu is estimated to cause between 12,000 and 61,000 deaths in the U.S. alone. The exact number of deaths is difficult to determine because many people who die from flu-related complications also have other underlying health conditions.The seasonal flu is a global public health issue, affecting millions of people worldwide each year. According to the World Health Organization, the flu is responsible for 3-5 million cases of severe illness and between 290,000 and 650,000 deaths annually."
   ]
  },
  {
   "cell_type": "markdown",
   "metadata": {},
   "source": [
    "> This can be seen further [here](https://www.cdc.gov/nchs/index.htm)"
   ]
  },
  {
   "cell_type": "markdown",
   "metadata": {},
   "source": [
    "## 5. Tidying the Data Set"
   ]
  },
  {
   "cell_type": "code",
   "execution_count": 9,
   "metadata": {},
   "outputs": [
    {
     "data": {
      "text/plain": [
       "respondent_id                      0\n",
       "h1n1_concern                      92\n",
       "h1n1_knowledge                   116\n",
       "behavioral_antiviral_meds         71\n",
       "behavioral_avoidance             208\n",
       "behavioral_face_mask              19\n",
       "behavioral_wash_hands             42\n",
       "behavioral_large_gatherings       87\n",
       "behavioral_outside_home           82\n",
       "behavioral_touch_face            128\n",
       "doctor_recc_h1n1                2160\n",
       "doctor_recc_seasonal            2160\n",
       "chronic_med_condition            971\n",
       "child_under_6_months             820\n",
       "health_worker                    804\n",
       "health_insurance               12274\n",
       "opinion_h1n1_vacc_effective      391\n",
       "opinion_h1n1_risk                388\n",
       "opinion_h1n1_sick_from_vacc      395\n",
       "opinion_seas_vacc_effective      462\n",
       "opinion_seas_risk                514\n",
       "opinion_seas_sick_from_vacc      537\n",
       "age_group                          0\n",
       "education                       1407\n",
       "race                               0\n",
       "sex                                0\n",
       "income_poverty                  4423\n",
       "marital_status                  1408\n",
       "rent_or_own                     2042\n",
       "employment_status               1463\n",
       "hhs_geo_region                     0\n",
       "census_msa                         0\n",
       "household_adults                 249\n",
       "household_children               249\n",
       "employment_industry            13330\n",
       "employment_occupation          13470\n",
       "dtype: int64"
      ]
     },
     "execution_count": 9,
     "metadata": {},
     "output_type": "execute_result"
    }
   ],
   "source": [
    "#Identifying the missing data\n",
    "train_data.isnull().sum()"
   ]
  },
  {
   "cell_type": "markdown",
   "metadata": {},
   "source": [
    "> As seen the only columns with no missing values are the id,age group,race,sex,and locations( hhs_geo_region,   census_msa ).\n",
    "> The last 2 columns have almost 50% missing data."
   ]
  },
  {
   "cell_type": "code",
   "execution_count": 10,
   "metadata": {},
   "outputs": [
    {
     "data": {
      "text/plain": [
       "0"
      ]
     },
     "execution_count": 10,
     "metadata": {},
     "output_type": "execute_result"
    }
   ],
   "source": [
    "#Identifying duplicated data.\n",
    "train_data.duplicated().sum()"
   ]
  },
  {
   "cell_type": "markdown",
   "metadata": {},
   "source": [
    "There are no duplicates in the data set."
   ]
  },
  {
   "cell_type": "code",
   "execution_count": 11,
   "metadata": {},
   "outputs": [],
   "source": [
    "#dropping irrelevant columns\n",
    "drop_columns = [\"hhs_geo_region\",\"employment_occupation\",\"employment_industry\",\"health_insurance\"]\n",
    "train_data.drop(drop_columns,axis=1, inplace=True)"
   ]
  },
  {
   "cell_type": "code",
   "execution_count": 12,
   "metadata": {},
   "outputs": [
    {
     "data": {
      "text/html": [
       "<div>\n",
       "<style scoped>\n",
       "    .dataframe tbody tr th:only-of-type {\n",
       "        vertical-align: middle;\n",
       "    }\n",
       "\n",
       "    .dataframe tbody tr th {\n",
       "        vertical-align: top;\n",
       "    }\n",
       "\n",
       "    .dataframe thead th {\n",
       "        text-align: right;\n",
       "    }\n",
       "</style>\n",
       "<table border=\"1\" class=\"dataframe\">\n",
       "  <thead>\n",
       "    <tr style=\"text-align: right;\">\n",
       "      <th></th>\n",
       "      <th>respondent_id</th>\n",
       "      <th>h1n1_concern</th>\n",
       "      <th>h1n1_knowledge</th>\n",
       "      <th>behavioral_antiviral_meds</th>\n",
       "      <th>behavioral_avoidance</th>\n",
       "      <th>behavioral_face_mask</th>\n",
       "      <th>behavioral_wash_hands</th>\n",
       "      <th>behavioral_large_gatherings</th>\n",
       "      <th>behavioral_outside_home</th>\n",
       "      <th>behavioral_touch_face</th>\n",
       "      <th>...</th>\n",
       "      <th>education</th>\n",
       "      <th>race</th>\n",
       "      <th>sex</th>\n",
       "      <th>income_poverty</th>\n",
       "      <th>marital_status</th>\n",
       "      <th>rent_or_own</th>\n",
       "      <th>employment_status</th>\n",
       "      <th>census_msa</th>\n",
       "      <th>household_adults</th>\n",
       "      <th>household_children</th>\n",
       "    </tr>\n",
       "  </thead>\n",
       "  <tbody>\n",
       "    <tr>\n",
       "      <th>0</th>\n",
       "      <td>0</td>\n",
       "      <td>1.0</td>\n",
       "      <td>0.0</td>\n",
       "      <td>0.0</td>\n",
       "      <td>0.0</td>\n",
       "      <td>0.0</td>\n",
       "      <td>0.0</td>\n",
       "      <td>0.0</td>\n",
       "      <td>1.0</td>\n",
       "      <td>1.0</td>\n",
       "      <td>...</td>\n",
       "      <td>&lt; 12 Years</td>\n",
       "      <td>White</td>\n",
       "      <td>Female</td>\n",
       "      <td>Below Poverty</td>\n",
       "      <td>Not Married</td>\n",
       "      <td>Own</td>\n",
       "      <td>Not in Labor Force</td>\n",
       "      <td>Non-MSA</td>\n",
       "      <td>0.0</td>\n",
       "      <td>0.0</td>\n",
       "    </tr>\n",
       "    <tr>\n",
       "      <th>1</th>\n",
       "      <td>1</td>\n",
       "      <td>3.0</td>\n",
       "      <td>2.0</td>\n",
       "      <td>0.0</td>\n",
       "      <td>1.0</td>\n",
       "      <td>0.0</td>\n",
       "      <td>1.0</td>\n",
       "      <td>0.0</td>\n",
       "      <td>1.0</td>\n",
       "      <td>1.0</td>\n",
       "      <td>...</td>\n",
       "      <td>12 Years</td>\n",
       "      <td>White</td>\n",
       "      <td>Male</td>\n",
       "      <td>Below Poverty</td>\n",
       "      <td>Not Married</td>\n",
       "      <td>Rent</td>\n",
       "      <td>Employed</td>\n",
       "      <td>MSA, Not Principle  City</td>\n",
       "      <td>0.0</td>\n",
       "      <td>0.0</td>\n",
       "    </tr>\n",
       "    <tr>\n",
       "      <th>2</th>\n",
       "      <td>2</td>\n",
       "      <td>1.0</td>\n",
       "      <td>1.0</td>\n",
       "      <td>0.0</td>\n",
       "      <td>1.0</td>\n",
       "      <td>0.0</td>\n",
       "      <td>0.0</td>\n",
       "      <td>0.0</td>\n",
       "      <td>0.0</td>\n",
       "      <td>0.0</td>\n",
       "      <td>...</td>\n",
       "      <td>College Graduate</td>\n",
       "      <td>White</td>\n",
       "      <td>Male</td>\n",
       "      <td>&lt;= $75,000, Above Poverty</td>\n",
       "      <td>Not Married</td>\n",
       "      <td>Own</td>\n",
       "      <td>Employed</td>\n",
       "      <td>MSA, Not Principle  City</td>\n",
       "      <td>2.0</td>\n",
       "      <td>0.0</td>\n",
       "    </tr>\n",
       "    <tr>\n",
       "      <th>3</th>\n",
       "      <td>3</td>\n",
       "      <td>1.0</td>\n",
       "      <td>1.0</td>\n",
       "      <td>0.0</td>\n",
       "      <td>1.0</td>\n",
       "      <td>0.0</td>\n",
       "      <td>1.0</td>\n",
       "      <td>1.0</td>\n",
       "      <td>0.0</td>\n",
       "      <td>0.0</td>\n",
       "      <td>...</td>\n",
       "      <td>12 Years</td>\n",
       "      <td>White</td>\n",
       "      <td>Female</td>\n",
       "      <td>Below Poverty</td>\n",
       "      <td>Not Married</td>\n",
       "      <td>Rent</td>\n",
       "      <td>Not in Labor Force</td>\n",
       "      <td>MSA, Principle City</td>\n",
       "      <td>0.0</td>\n",
       "      <td>0.0</td>\n",
       "    </tr>\n",
       "    <tr>\n",
       "      <th>4</th>\n",
       "      <td>4</td>\n",
       "      <td>2.0</td>\n",
       "      <td>1.0</td>\n",
       "      <td>0.0</td>\n",
       "      <td>1.0</td>\n",
       "      <td>0.0</td>\n",
       "      <td>1.0</td>\n",
       "      <td>1.0</td>\n",
       "      <td>0.0</td>\n",
       "      <td>1.0</td>\n",
       "      <td>...</td>\n",
       "      <td>Some College</td>\n",
       "      <td>White</td>\n",
       "      <td>Female</td>\n",
       "      <td>&lt;= $75,000, Above Poverty</td>\n",
       "      <td>Married</td>\n",
       "      <td>Own</td>\n",
       "      <td>Employed</td>\n",
       "      <td>MSA, Not Principle  City</td>\n",
       "      <td>1.0</td>\n",
       "      <td>0.0</td>\n",
       "    </tr>\n",
       "  </tbody>\n",
       "</table>\n",
       "<p>5 rows × 32 columns</p>\n",
       "</div>"
      ],
      "text/plain": [
       "   respondent_id  h1n1_concern  h1n1_knowledge  behavioral_antiviral_meds  \\\n",
       "0              0           1.0             0.0                        0.0   \n",
       "1              1           3.0             2.0                        0.0   \n",
       "2              2           1.0             1.0                        0.0   \n",
       "3              3           1.0             1.0                        0.0   \n",
       "4              4           2.0             1.0                        0.0   \n",
       "\n",
       "   behavioral_avoidance  behavioral_face_mask  behavioral_wash_hands  \\\n",
       "0                   0.0                   0.0                    0.0   \n",
       "1                   1.0                   0.0                    1.0   \n",
       "2                   1.0                   0.0                    0.0   \n",
       "3                   1.0                   0.0                    1.0   \n",
       "4                   1.0                   0.0                    1.0   \n",
       "\n",
       "   behavioral_large_gatherings  behavioral_outside_home  \\\n",
       "0                          0.0                      1.0   \n",
       "1                          0.0                      1.0   \n",
       "2                          0.0                      0.0   \n",
       "3                          1.0                      0.0   \n",
       "4                          1.0                      0.0   \n",
       "\n",
       "   behavioral_touch_face  ...         education   race     sex  \\\n",
       "0                    1.0  ...        < 12 Years  White  Female   \n",
       "1                    1.0  ...          12 Years  White    Male   \n",
       "2                    0.0  ...  College Graduate  White    Male   \n",
       "3                    0.0  ...          12 Years  White  Female   \n",
       "4                    1.0  ...      Some College  White  Female   \n",
       "\n",
       "              income_poverty  marital_status  rent_or_own   employment_status  \\\n",
       "0              Below Poverty     Not Married          Own  Not in Labor Force   \n",
       "1              Below Poverty     Not Married         Rent            Employed   \n",
       "2  <= $75,000, Above Poverty     Not Married          Own            Employed   \n",
       "3              Below Poverty     Not Married         Rent  Not in Labor Force   \n",
       "4  <= $75,000, Above Poverty         Married          Own            Employed   \n",
       "\n",
       "                 census_msa  household_adults  household_children  \n",
       "0                   Non-MSA               0.0                 0.0  \n",
       "1  MSA, Not Principle  City               0.0                 0.0  \n",
       "2  MSA, Not Principle  City               2.0                 0.0  \n",
       "3       MSA, Principle City               0.0                 0.0  \n",
       "4  MSA, Not Principle  City               1.0                 0.0  \n",
       "\n",
       "[5 rows x 32 columns]"
      ]
     },
     "execution_count": 12,
     "metadata": {},
     "output_type": "execute_result"
    }
   ],
   "source": [
    "#confirm the columns have been dropped.\n",
    "train_data.head()"
   ]
  },
  {
   "cell_type": "code",
   "execution_count": 13,
   "metadata": {},
   "outputs": [],
   "source": [
    "#Dropping rows with missing values\n",
    "train_data.dropna(inplace=True)"
   ]
  },
  {
   "cell_type": "code",
   "execution_count": 14,
   "metadata": {},
   "outputs": [
    {
     "data": {
      "text/plain": [
       "respondent_id                  0\n",
       "h1n1_concern                   0\n",
       "h1n1_knowledge                 0\n",
       "behavioral_antiviral_meds      0\n",
       "behavioral_avoidance           0\n",
       "behavioral_face_mask           0\n",
       "behavioral_wash_hands          0\n",
       "behavioral_large_gatherings    0\n",
       "behavioral_outside_home        0\n",
       "behavioral_touch_face          0\n",
       "doctor_recc_h1n1               0\n",
       "doctor_recc_seasonal           0\n",
       "chronic_med_condition          0\n",
       "child_under_6_months           0\n",
       "health_worker                  0\n",
       "opinion_h1n1_vacc_effective    0\n",
       "opinion_h1n1_risk              0\n",
       "opinion_h1n1_sick_from_vacc    0\n",
       "opinion_seas_vacc_effective    0\n",
       "opinion_seas_risk              0\n",
       "opinion_seas_sick_from_vacc    0\n",
       "age_group                      0\n",
       "education                      0\n",
       "race                           0\n",
       "sex                            0\n",
       "income_poverty                 0\n",
       "marital_status                 0\n",
       "rent_or_own                    0\n",
       "employment_status              0\n",
       "census_msa                     0\n",
       "household_adults               0\n",
       "household_children             0\n",
       "dtype: int64"
      ]
     },
     "execution_count": 14,
     "metadata": {},
     "output_type": "execute_result"
    }
   ],
   "source": [
    "#confirming the rows with missing values have been dropped\n",
    "train_data.isnull().sum()"
   ]
  },
  {
   "cell_type": "markdown",
   "metadata": {},
   "source": [
    "## 6. Exploratory Analysis"
   ]
  },
  {
   "cell_type": "markdown",
   "metadata": {},
   "source": [
    "### Univariate analysis"
   ]
  },
  {
   "cell_type": "code",
   "execution_count": 15,
   "metadata": {},
   "outputs": [
    {
     "data": {
      "image/png": "[encoded data removed]",
      "text/plain": [
       "<Figure size 720x576 with 1 Axes>"
      ]
     },
     "metadata": {},
     "output_type": "display_data"
    }
   ],
   "source": [
    "#Distribution of age groups \n",
    "sns.set_style(\"whitegrid\")\n",
    "\n",
    "bar,ax = plt.subplots(figsize=(10,8))\n",
    "ax = sns.countplot(x= \"age_group\", data = train_data ,palette = 'Dark2')\n",
    "ax.set_title(\"Distribution of age groups\")\n",
    "bar.savefig(\"agegroup.png\")"
   ]
  },
  {
   "cell_type": "markdown",
   "metadata": {},
   "source": [
    "> Most of the respondents were older than 65 years."
   ]
  },
  {
   "cell_type": "code",
   "execution_count": 16,
   "metadata": {},
   "outputs": [
    {
     "data": {
      "image/png": "[encoded data removed]",
      "text/plain": [
       "<Figure size 720x576 with 1 Axes>"
      ]
     },
     "metadata": {},
     "output_type": "display_data"
    }
   ],
   "source": [
    "#Distribution of Education groups\n",
    "sns.set_style(\"whitegrid\")\n",
    "\n",
    "bar,ax = plt.subplots(figsize=(10,8))\n",
    "ax = sns.countplot(x= \"education\", data = train_data ,palette = 'Dark2')\n",
    "ax.set_title(\"Distribution of Education groups\")\n",
    "bar.savefig(\"education.png\")"
   ]
  },
  {
   "cell_type": "markdown",
   "metadata": {},
   "source": [
    "> The majority number of respondents were college graduates."
   ]
  },
  {
   "cell_type": "code",
   "execution_count": 17,
   "metadata": {},
   "outputs": [
    {
     "data": {
      "image/png": "[encoded data removed]",
      "text/plain": [
       "<Figure size 720x576 with 1 Axes>"
      ]
     },
     "metadata": {},
     "output_type": "display_data"
    }
   ],
   "source": [
    "#Distribution of race\n",
    "sns.set_style(\"whitegrid\")\n",
    "\n",
    "bar,ax = plt.subplots(figsize=(10,8))\n",
    "ax = sns.countplot(x= \"race\", data = train_data ,palette = 'Dark2')\n",
    "ax.set_title(\"Distribution of Race\")\n",
    "bar.savefig(\"race.png\")"
   ]
  },
  {
   "cell_type": "markdown",
   "metadata": {},
   "source": [
    "> Most of the respondents were caucasians."
   ]
  },
  {
   "cell_type": "code",
   "execution_count": 18,
   "metadata": {},
   "outputs": [
    {
     "data": {
      "image/png": "[encoded data removed]",
      "text/plain": [
       "<Figure size 720x576 with 1 Axes>"
      ]
     },
     "metadata": {},
     "output_type": "display_data"
    }
   ],
   "source": [
    "#Distribution of gender \n",
    "sns.set_style(\"whitegrid\")\n",
    "\n",
    "bar,ax = plt.subplots(figsize=(10,8))\n",
    "ax = sns.countplot(x= \"sex\", data = train_data ,palette = 'Dark2')\n",
    "ax.set_title(\"Distribution of gender\")\n",
    "bar.savefig(\"sex.png\")"
   ]
  },
  {
   "cell_type": "markdown",
   "metadata": {},
   "source": [
    "> Most of the respondents were female."
   ]
  },
  {
   "cell_type": "code",
   "execution_count": 19,
   "metadata": {},
   "outputs": [
    {
     "data": {
      "image/png": "[encoded data removed]",
      "text/plain": [
       "<Figure size 720x576 with 1 Axes>"
      ]
     },
     "metadata": {},
     "output_type": "display_data"
    }
   ],
   "source": [
    "#Distribution of income classes\n",
    "sns.set_style(\"whitegrid\")\n",
    "\n",
    "bar,ax = plt.subplots(figsize=(10,8))\n",
    "ax = sns.countplot(x= \"income_poverty\", data = train_data ,palette = 'Dark2')\n",
    "ax.set_title(\"Distribution of income classes\")\n",
    "bar.savefig(\"income.png\")"
   ]
  },
  {
   "cell_type": "markdown",
   "metadata": {},
   "source": [
    "> Most respondents were above the income poverty line."
   ]
  },
  {
   "cell_type": "code",
   "execution_count": 20,
   "metadata": {},
   "outputs": [
    {
     "data": {
      "image/png": "[encoded data removed]",
      "text/plain": [
       "<Figure size 720x576 with 1 Axes>"
      ]
     },
     "metadata": {},
     "output_type": "display_data"
    }
   ],
   "source": [
    "#Distribution of marital status\n",
    "sns.set_style(\"whitegrid\")\n",
    "\n",
    "bar,ax = plt.subplots(figsize=(10,8))\n",
    "ax = sns.countplot(x= \"marital_status\", data = train_data ,palette = 'Dark2')\n",
    "ax.set_title(\"Distribution of marital status\")\n",
    "bar.savefig(\"maritalstatus.png\")"
   ]
  },
  {
   "cell_type": "markdown",
   "metadata": {},
   "source": [
    "> Most of the respondents were married."
   ]
  },
  {
   "cell_type": "code",
   "execution_count": 21,
   "metadata": {},
   "outputs": [
    {
     "data": {
      "image/png": "[encoded data removed]",
      "text/plain": [
       "<Figure size 720x576 with 1 Axes>"
      ]
     },
     "metadata": {},
     "output_type": "display_data"
    }
   ],
   "source": [
    "#Distribution of house situation\n",
    "sns.set_style(\"whitegrid\")\n",
    "\n",
    "bar,ax = plt.subplots(figsize=(10,8))\n",
    "ax = sns.countplot(x= \"rent_or_own\", data = train_data ,palette = 'Dark2')\n",
    "ax.set_title(\"Distribution of renters and owners\")\n",
    "bar.savefig(\"rentown.png\")"
   ]
  },
  {
   "cell_type": "markdown",
   "metadata": {},
   "source": [
    "> Most of the respondents were home owners."
   ]
  },
  {
   "cell_type": "code",
   "execution_count": 22,
   "metadata": {},
   "outputs": [
    {
     "data": {
      "image/png": "[encoded data removed]",
      "text/plain": [
       "<Figure size 720x576 with 1 Axes>"
      ]
     },
     "metadata": {},
     "output_type": "display_data"
    }
   ],
   "source": [
    "#Distribution of census metropolitan Statistical Area\n",
    "sns.set_style(\"whitegrid\")\n",
    "\n",
    "bar,ax = plt.subplots(figsize=(10,8))\n",
    "ax = sns.countplot(x= \"census_msa\", data = train_data ,palette = 'Dark2')\n",
    "ax.set_title(\"Distribution of census metropolitan Statistical Area\")\n",
    "bar.savefig(\"census_msa.png\")"
   ]
  },
  {
   "cell_type": "markdown",
   "metadata": {},
   "source": [
    "> Most of the respondents were in the MSA,but not the priciple city."
   ]
  },
  {
   "cell_type": "code",
   "execution_count": 23,
   "metadata": {},
   "outputs": [
    {
     "data": {
      "image/png": "[encoded data removed]",
      "text/plain": [
       "<Figure size 720x576 with 1 Axes>"
      ]
     },
     "metadata": {},
     "output_type": "display_data"
    }
   ],
   "source": [
    "#Distribution of h1n1 vaccine.\n",
    "sns.set_style(\"whitegrid\")\n",
    "\n",
    "bar,ax = plt.subplots(figsize=(10,8))\n",
    "ax = sns.countplot(x= \"h1n1_vaccine\", data = train_data_labels ,palette = 'Dark2')\n",
    "\n",
    "ax.set_title(\"Distribution of h1n1 vaccine.\")\n",
    "bar.savefig(\"h1n1vacc.png\")"
   ]
  },
  {
   "cell_type": "code",
   "execution_count": 24,
   "metadata": {},
   "outputs": [
    {
     "data": {
      "image/png": "[encoded data removed]",
      "text/plain": [
       "<Figure size 720x576 with 1 Axes>"
      ]
     },
     "metadata": {},
     "output_type": "display_data"
    }
   ],
   "source": [
    "#Distribution of seasonal flu vaccine\n",
    "sns.set_style(\"whitegrid\")\n",
    "\n",
    "bar,ax = plt.subplots(figsize=(10,8))\n",
    "ax = sns.countplot(x= \"seasonal_vaccine\", data = train_data_labels ,palette = 'Dark2')\n",
    "\n",
    "ax.set_title(\"Distribution of seasonal flu vaccine\")\n",
    "bar.savefig(\"seasonalvacc.png\")\n"
   ]
  },
  {
   "cell_type": "markdown",
   "metadata": {},
   "source": [
    "> As seen,seasonal flu vaccine target variable has balanced classes in comparison to h1n1 flu vaccine target variable."
   ]
  },
  {
   "cell_type": "markdown",
   "metadata": {},
   "source": [
    "### Multivariate Analysis\n",
    "> Since in the multivariate analysis,we want to compare our variables to our target variable,we will have to join \n",
    "train_data dataframe and train_data_labels data frame."
   ]
  },
  {
   "cell_type": "markdown",
   "metadata": {},
   "source": [
    "### Joining the data sets.\n"
   ]
  },
  {
   "cell_type": "code",
   "execution_count": 25,
   "metadata": {},
   "outputs": [
    {
     "data": {
      "text/html": [
       "<div>\n",
       "<style scoped>\n",
       "    .dataframe tbody tr th:only-of-type {\n",
       "        vertical-align: middle;\n",
       "    }\n",
       "\n",
       "    .dataframe tbody tr th {\n",
       "        vertical-align: top;\n",
       "    }\n",
       "\n",
       "    .dataframe thead th {\n",
       "        text-align: right;\n",
       "    }\n",
       "</style>\n",
       "<table border=\"1\" class=\"dataframe\">\n",
       "  <thead>\n",
       "    <tr style=\"text-align: right;\">\n",
       "      <th></th>\n",
       "      <th>respondent_id</th>\n",
       "      <th>h1n1_concern</th>\n",
       "      <th>h1n1_knowledge</th>\n",
       "      <th>behavioral_antiviral_meds</th>\n",
       "      <th>behavioral_avoidance</th>\n",
       "      <th>behavioral_face_mask</th>\n",
       "      <th>behavioral_wash_hands</th>\n",
       "      <th>behavioral_large_gatherings</th>\n",
       "      <th>behavioral_outside_home</th>\n",
       "      <th>behavioral_touch_face</th>\n",
       "      <th>...</th>\n",
       "      <th>sex</th>\n",
       "      <th>income_poverty</th>\n",
       "      <th>marital_status</th>\n",
       "      <th>rent_or_own</th>\n",
       "      <th>employment_status</th>\n",
       "      <th>census_msa</th>\n",
       "      <th>household_adults</th>\n",
       "      <th>household_children</th>\n",
       "      <th>h1n1_vaccine</th>\n",
       "      <th>seasonal_vaccine</th>\n",
       "    </tr>\n",
       "  </thead>\n",
       "  <tbody>\n",
       "    <tr>\n",
       "      <th>0</th>\n",
       "      <td>0</td>\n",
       "      <td>1.0</td>\n",
       "      <td>0.0</td>\n",
       "      <td>0.0</td>\n",
       "      <td>0.0</td>\n",
       "      <td>0.0</td>\n",
       "      <td>0.0</td>\n",
       "      <td>0.0</td>\n",
       "      <td>1.0</td>\n",
       "      <td>1.0</td>\n",
       "      <td>...</td>\n",
       "      <td>Female</td>\n",
       "      <td>Below Poverty</td>\n",
       "      <td>Not Married</td>\n",
       "      <td>Own</td>\n",
       "      <td>Not in Labor Force</td>\n",
       "      <td>Non-MSA</td>\n",
       "      <td>0.0</td>\n",
       "      <td>0.0</td>\n",
       "      <td>0</td>\n",
       "      <td>0</td>\n",
       "    </tr>\n",
       "    <tr>\n",
       "      <th>1</th>\n",
       "      <td>1</td>\n",
       "      <td>3.0</td>\n",
       "      <td>2.0</td>\n",
       "      <td>0.0</td>\n",
       "      <td>1.0</td>\n",
       "      <td>0.0</td>\n",
       "      <td>1.0</td>\n",
       "      <td>0.0</td>\n",
       "      <td>1.0</td>\n",
       "      <td>1.0</td>\n",
       "      <td>...</td>\n",
       "      <td>Male</td>\n",
       "      <td>Below Poverty</td>\n",
       "      <td>Not Married</td>\n",
       "      <td>Rent</td>\n",
       "      <td>Employed</td>\n",
       "      <td>MSA, Not Principle  City</td>\n",
       "      <td>0.0</td>\n",
       "      <td>0.0</td>\n",
       "      <td>0</td>\n",
       "      <td>1</td>\n",
       "    </tr>\n",
       "    <tr>\n",
       "      <th>2</th>\n",
       "      <td>3</td>\n",
       "      <td>1.0</td>\n",
       "      <td>1.0</td>\n",
       "      <td>0.0</td>\n",
       "      <td>1.0</td>\n",
       "      <td>0.0</td>\n",
       "      <td>1.0</td>\n",
       "      <td>1.0</td>\n",
       "      <td>0.0</td>\n",
       "      <td>0.0</td>\n",
       "      <td>...</td>\n",
       "      <td>Female</td>\n",
       "      <td>Below Poverty</td>\n",
       "      <td>Not Married</td>\n",
       "      <td>Rent</td>\n",
       "      <td>Not in Labor Force</td>\n",
       "      <td>MSA, Principle City</td>\n",
       "      <td>0.0</td>\n",
       "      <td>0.0</td>\n",
       "      <td>0</td>\n",
       "      <td>1</td>\n",
       "    </tr>\n",
       "    <tr>\n",
       "      <th>3</th>\n",
       "      <td>4</td>\n",
       "      <td>2.0</td>\n",
       "      <td>1.0</td>\n",
       "      <td>0.0</td>\n",
       "      <td>1.0</td>\n",
       "      <td>0.0</td>\n",
       "      <td>1.0</td>\n",
       "      <td>1.0</td>\n",
       "      <td>0.0</td>\n",
       "      <td>1.0</td>\n",
       "      <td>...</td>\n",
       "      <td>Female</td>\n",
       "      <td>&lt;= $75,000, Above Poverty</td>\n",
       "      <td>Married</td>\n",
       "      <td>Own</td>\n",
       "      <td>Employed</td>\n",
       "      <td>MSA, Not Principle  City</td>\n",
       "      <td>1.0</td>\n",
       "      <td>0.0</td>\n",
       "      <td>0</td>\n",
       "      <td>0</td>\n",
       "    </tr>\n",
       "    <tr>\n",
       "      <th>4</th>\n",
       "      <td>5</td>\n",
       "      <td>3.0</td>\n",
       "      <td>1.0</td>\n",
       "      <td>0.0</td>\n",
       "      <td>1.0</td>\n",
       "      <td>0.0</td>\n",
       "      <td>1.0</td>\n",
       "      <td>0.0</td>\n",
       "      <td>0.0</td>\n",
       "      <td>1.0</td>\n",
       "      <td>...</td>\n",
       "      <td>Male</td>\n",
       "      <td>&lt;= $75,000, Above Poverty</td>\n",
       "      <td>Married</td>\n",
       "      <td>Own</td>\n",
       "      <td>Employed</td>\n",
       "      <td>MSA, Principle City</td>\n",
       "      <td>2.0</td>\n",
       "      <td>3.0</td>\n",
       "      <td>0</td>\n",
       "      <td>0</td>\n",
       "    </tr>\n",
       "  </tbody>\n",
       "</table>\n",
       "<p>5 rows × 34 columns</p>\n",
       "</div>"
      ],
      "text/plain": [
       "   respondent_id  h1n1_concern  h1n1_knowledge  behavioral_antiviral_meds  \\\n",
       "0              0           1.0             0.0                        0.0   \n",
       "1              1           3.0             2.0                        0.0   \n",
       "2              3           1.0             1.0                        0.0   \n",
       "3              4           2.0             1.0                        0.0   \n",
       "4              5           3.0             1.0                        0.0   \n",
       "\n",
       "   behavioral_avoidance  behavioral_face_mask  behavioral_wash_hands  \\\n",
       "0                   0.0                   0.0                    0.0   \n",
       "1                   1.0                   0.0                    1.0   \n",
       "2                   1.0                   0.0                    1.0   \n",
       "3                   1.0                   0.0                    1.0   \n",
       "4                   1.0                   0.0                    1.0   \n",
       "\n",
       "   behavioral_large_gatherings  behavioral_outside_home  \\\n",
       "0                          0.0                      1.0   \n",
       "1                          0.0                      1.0   \n",
       "2                          1.0                      0.0   \n",
       "3                          1.0                      0.0   \n",
       "4                          0.0                      0.0   \n",
       "\n",
       "   behavioral_touch_face  ...     sex             income_poverty  \\\n",
       "0                    1.0  ...  Female              Below Poverty   \n",
       "1                    1.0  ...    Male              Below Poverty   \n",
       "2                    0.0  ...  Female              Below Poverty   \n",
       "3                    1.0  ...  Female  <= $75,000, Above Poverty   \n",
       "4                    1.0  ...    Male  <= $75,000, Above Poverty   \n",
       "\n",
       "   marital_status  rent_or_own   employment_status                census_msa  \\\n",
       "0     Not Married          Own  Not in Labor Force                   Non-MSA   \n",
       "1     Not Married         Rent            Employed  MSA, Not Principle  City   \n",
       "2     Not Married         Rent  Not in Labor Force       MSA, Principle City   \n",
       "3         Married          Own            Employed  MSA, Not Principle  City   \n",
       "4         Married          Own            Employed       MSA, Principle City   \n",
       "\n",
       "   household_adults  household_children  h1n1_vaccine  seasonal_vaccine  \n",
       "0               0.0                 0.0             0                 0  \n",
       "1               0.0                 0.0             0                 1  \n",
       "2               0.0                 0.0             0                 1  \n",
       "3               1.0                 0.0             0                 0  \n",
       "4               2.0                 3.0             0                 0  \n",
       "\n",
       "[5 rows x 34 columns]"
      ]
     },
     "execution_count": 25,
     "metadata": {},
     "output_type": "execute_result"
    }
   ],
   "source": [
    "combined_train = pd.merge(train_data,train_data_labels,on = \"respondent_id\")\n",
    "combined_train.head()"
   ]
  },
  {
   "cell_type": "markdown",
   "metadata": {},
   "source": [
    "> The chosen target variable is the seasonal flu vaccine.All visualizations made below will be in respect to that."
   ]
  },
  {
   "cell_type": "code",
   "execution_count": 26,
   "metadata": {
    "scrolled": true
   },
   "outputs": [
    {
     "data": {
      "image/png": "[encoded data removed]",
      "text/plain": [
       "<Figure size 720x576 with 1 Axes>"
      ]
     },
     "metadata": {},
     "output_type": "display_data"
    }
   ],
   "source": [
    "#relation between the concern one has about the virus and getting vaccinated\n",
    "sns.set_style(\"whitegrid\")\n",
    "\n",
    "bar,ax = plt.subplots(figsize=(10,8))\n",
    "ax = sns.barplot(data=combined_train, x=\"h1n1_concern\",y=\"seasonal_vaccine\")\n",
    "\n",
    "ax.set_title(\"Relation of the concern one has about the virus and getting vaccinated.\")\n",
    "bar.savefig(\"h1n1concern.png\")\n"
   ]
  },
  {
   "cell_type": "markdown",
   "metadata": {},
   "source": [
    "> As seen the people with the most concern about the virus have a higher chance of getting the seasonal flu vaccine."
   ]
  },
  {
   "cell_type": "code",
   "execution_count": 27,
   "metadata": {},
   "outputs": [
    {
     "data": {
      "image/png": "[encoded data removed]",
      "text/plain": [
       "<Figure size 720x576 with 1 Axes>"
      ]
     },
     "metadata": {},
     "output_type": "display_data"
    }
   ],
   "source": [
    "#relation between the age group and getting vaccinated\n",
    "sns.set_style(\"whitegrid\")\n",
    "\n",
    "bar,ax = plt.subplots(figsize=(10,8))\n",
    "ax = sns.barplot(data=combined_train, x=\"age_group\",y=\"seasonal_vaccine\")\n",
    "\n",
    "ax.set_title(\"Relation of the age group and getting vaccinated.\")\n",
    "bar.savefig(\"agecorr.png\")\n"
   ]
  },
  {
   "cell_type": "markdown",
   "metadata": {},
   "source": [
    "> People over the age of 65 have received a shot of seasonal flu vaccine."
   ]
  },
  {
   "cell_type": "code",
   "execution_count": 28,
   "metadata": {},
   "outputs": [
    {
     "data": {
      "image/png": "[encoded data removed]",
      "text/plain": [
       "<Figure size 720x576 with 1 Axes>"
      ]
     },
     "metadata": {},
     "output_type": "display_data"
    }
   ],
   "source": [
    "#relation between one having a chronic medical condition and getting vaccinated\n",
    "sns.set_style(\"whitegrid\")\n",
    "\n",
    "bar,ax = plt.subplots(figsize=(10,8))\n",
    "ax = sns.barplot(data=combined_train, x=\"chronic_med_condition\",y=\"seasonal_vaccine\")\n",
    "\n",
    "ax.set_title(\"Relation of having a chronic medical condition and getting vaccinated.\")\n",
    "bar.savefig(\"chronicmedcorr.png\")"
   ]
  },
  {
   "cell_type": "markdown",
   "metadata": {},
   "source": [
    "> Respondents with a chronic medical condition have a higher chance of getting vaccinated."
   ]
  },
  {
   "cell_type": "code",
   "execution_count": 29,
   "metadata": {},
   "outputs": [
    {
     "data": {
      "image/png": "[encoded data removed]",
      "text/plain": [
       "<Figure size 720x576 with 1 Axes>"
      ]
     },
     "metadata": {},
     "output_type": "display_data"
    }
   ],
   "source": [
    "#Relation between being a health worker and getting a seasonal flu vaccine \n",
    "sns.set_style(\"whitegrid\")\n",
    "\n",
    "bar,ax = plt.subplots(figsize=(10,8))\n",
    "ax = sns.barplot(data=combined_train, x=\"health_worker\",y=\"seasonal_vaccine\")\n",
    "\n",
    "ax.set_title(\"Relation of being a health worker and getting vaccinated.\")\n",
    "bar.savefig(\"healthworkercorr.png\")"
   ]
  },
  {
   "cell_type": "markdown",
   "metadata": {},
   "source": [
    "> Due to their work environment,people working in the health care capacity are more prone to diseases,therefore they have a higher possibility of getting a seasonal flu vaccine."
   ]
  },
  {
   "cell_type": "code",
   "execution_count": 30,
   "metadata": {},
   "outputs": [
    {
     "data": {
      "image/png": "[encoded data removed]",
      "text/plain": [
       "<Figure size 720x576 with 1 Axes>"
      ]
     },
     "metadata": {},
     "output_type": "display_data"
    }
   ],
   "source": [
    "#Relation between level of education and getting a seasonal flu vaccine.\n",
    "sns.set_style(\"whitegrid\")\n",
    "\n",
    "bar,ax = plt.subplots(figsize=(10,8))\n",
    "ax = sns.barplot(data=combined_train, x=\"education\",y=\"seasonal_vaccine\")\n",
    "\n",
    "ax.set_title(\"Relation between level of education and getting vaccinated.\")\n",
    "bar.savefig(\"healthworkercorr.png\")"
   ]
  },
  {
   "cell_type": "markdown",
   "metadata": {},
   "source": [
    "> As seen,people with higher education have a more likelihood of getting the seasonal flu vaccine."
   ]
  },
  {
   "cell_type": "markdown",
   "metadata": {},
   "source": [
    "## 7. Implementing the solution"
   ]
  },
  {
   "cell_type": "markdown",
   "metadata": {},
   "source": [
    "### Correlations"
   ]
  },
  {
   "cell_type": "code",
   "execution_count": 31,
   "metadata": {},
   "outputs": [
    {
     "data": {
      "image/png": "[encoded data removed]",
      "text/plain": [
       "<Figure size 1440x504 with 2 Axes>"
      ]
     },
     "metadata": {},
     "output_type": "display_data"
    }
   ],
   "source": [
    "#correlation heatmap\n",
    "plt.figure(figsize=(20,7))\n",
    "mask = np.triu(np.ones_like(combined_train.corr(), dtype=bool))\n",
    "sns.heatmap(combined_train.corr(),annot=True,cmap=\"BrBG\",fmt=\".2f\", mask=mask);\n",
    "plt.title('Correlation between the columns')\n",
    "plt.show()"
   ]
  },
  {
   "cell_type": "markdown",
   "metadata": {},
   "source": [
    "### Encoding categorical data"
   ]
  },
  {
   "cell_type": "code",
   "execution_count": 32,
   "metadata": {},
   "outputs": [],
   "source": [
    "#defining the categorical columns\n",
    "categorical_columns = ['employment_status','age_group','education','race','sex','income_poverty','marital_status','rent_or_own',\n",
    "                       'census_msa']\n",
    "#initialize the label encoder\n",
    "lab = LabelEncoder()\n",
    "\n",
    "#encode all categorical columns\n",
    "\n",
    "for column in categorical_columns:\n",
    "    combined_train[column] = lab.fit_transform(combined_train[column])\n"
   ]
  },
  {
   "cell_type": "markdown",
   "metadata": {},
   "source": [
    "### Checking for multicollinearity using VIF"
   ]
  },
  {
   "cell_type": "code",
   "execution_count": 33,
   "metadata": {},
   "outputs": [
    {
     "data": {
      "text/html": [
       "<div>\n",
       "<style scoped>\n",
       "    .dataframe tbody tr th:only-of-type {\n",
       "        vertical-align: middle;\n",
       "    }\n",
       "\n",
       "    .dataframe tbody tr th {\n",
       "        vertical-align: top;\n",
       "    }\n",
       "\n",
       "    .dataframe thead th {\n",
       "        text-align: right;\n",
       "    }\n",
       "</style>\n",
       "<table border=\"1\" class=\"dataframe\">\n",
       "  <thead>\n",
       "    <tr style=\"text-align: right;\">\n",
       "      <th></th>\n",
       "      <th>feature</th>\n",
       "      <th>VIF</th>\n",
       "    </tr>\n",
       "  </thead>\n",
       "  <tbody>\n",
       "    <tr>\n",
       "      <th>15</th>\n",
       "      <td>opinion_h1n1_vacc_effective</td>\n",
       "      <td>21.992887</td>\n",
       "    </tr>\n",
       "    <tr>\n",
       "      <th>18</th>\n",
       "      <td>opinion_seas_vacc_effective</td>\n",
       "      <td>21.382281</td>\n",
       "    </tr>\n",
       "    <tr>\n",
       "      <th>23</th>\n",
       "      <td>race</td>\n",
       "      <td>9.078943</td>\n",
       "    </tr>\n",
       "    <tr>\n",
       "      <th>19</th>\n",
       "      <td>opinion_seas_risk</td>\n",
       "      <td>8.387860</td>\n",
       "    </tr>\n",
       "    <tr>\n",
       "      <th>16</th>\n",
       "      <td>opinion_h1n1_risk</td>\n",
       "      <td>7.767831</td>\n",
       "    </tr>\n",
       "    <tr>\n",
       "      <th>6</th>\n",
       "      <td>behavioral_wash_hands</td>\n",
       "      <td>7.681316</td>\n",
       "    </tr>\n",
       "    <tr>\n",
       "      <th>1</th>\n",
       "      <td>h1n1_concern</td>\n",
       "      <td>6.435400</td>\n",
       "    </tr>\n",
       "    <tr>\n",
       "      <th>2</th>\n",
       "      <td>h1n1_knowledge</td>\n",
       "      <td>6.396391</td>\n",
       "    </tr>\n",
       "    <tr>\n",
       "      <th>17</th>\n",
       "      <td>opinion_h1n1_sick_from_vacc</td>\n",
       "      <td>6.026470</td>\n",
       "    </tr>\n",
       "    <tr>\n",
       "      <th>4</th>\n",
       "      <td>behavioral_avoidance</td>\n",
       "      <td>4.802432</td>\n",
       "    </tr>\n",
       "    <tr>\n",
       "      <th>21</th>\n",
       "      <td>age_group</td>\n",
       "      <td>4.799676</td>\n",
       "    </tr>\n",
       "    <tr>\n",
       "      <th>20</th>\n",
       "      <td>opinion_seas_sick_from_vacc</td>\n",
       "      <td>4.702912</td>\n",
       "    </tr>\n",
       "    <tr>\n",
       "      <th>9</th>\n",
       "      <td>behavioral_touch_face</td>\n",
       "      <td>4.146136</td>\n",
       "    </tr>\n",
       "    <tr>\n",
       "      <th>0</th>\n",
       "      <td>respondent_id</td>\n",
       "      <td>3.820501</td>\n",
       "    </tr>\n",
       "    <tr>\n",
       "      <th>22</th>\n",
       "      <td>education</td>\n",
       "      <td>3.679299</td>\n",
       "    </tr>\n",
       "    <tr>\n",
       "      <th>30</th>\n",
       "      <td>household_adults</td>\n",
       "      <td>2.946521</td>\n",
       "    </tr>\n",
       "    <tr>\n",
       "      <th>11</th>\n",
       "      <td>doctor_recc_seasonal</td>\n",
       "      <td>2.577922</td>\n",
       "    </tr>\n",
       "    <tr>\n",
       "      <th>7</th>\n",
       "      <td>behavioral_large_gatherings</td>\n",
       "      <td>2.508983</td>\n",
       "    </tr>\n",
       "    <tr>\n",
       "      <th>8</th>\n",
       "      <td>behavioral_outside_home</td>\n",
       "      <td>2.443086</td>\n",
       "    </tr>\n",
       "    <tr>\n",
       "      <th>10</th>\n",
       "      <td>doctor_recc_h1n1</td>\n",
       "      <td>2.382688</td>\n",
       "    </tr>\n",
       "    <tr>\n",
       "      <th>26</th>\n",
       "      <td>marital_status</td>\n",
       "      <td>2.295738</td>\n",
       "    </tr>\n",
       "    <tr>\n",
       "      <th>29</th>\n",
       "      <td>census_msa</td>\n",
       "      <td>2.006797</td>\n",
       "    </tr>\n",
       "    <tr>\n",
       "      <th>28</th>\n",
       "      <td>employment_status</td>\n",
       "      <td>1.958330</td>\n",
       "    </tr>\n",
       "    <tr>\n",
       "      <th>32</th>\n",
       "      <td>h1n1_vaccine</td>\n",
       "      <td>1.782554</td>\n",
       "    </tr>\n",
       "    <tr>\n",
       "      <th>24</th>\n",
       "      <td>sex</td>\n",
       "      <td>1.760536</td>\n",
       "    </tr>\n",
       "    <tr>\n",
       "      <th>25</th>\n",
       "      <td>income_poverty</td>\n",
       "      <td>1.754364</td>\n",
       "    </tr>\n",
       "    <tr>\n",
       "      <th>31</th>\n",
       "      <td>household_children</td>\n",
       "      <td>1.744137</td>\n",
       "    </tr>\n",
       "    <tr>\n",
       "      <th>12</th>\n",
       "      <td>chronic_med_condition</td>\n",
       "      <td>1.581827</td>\n",
       "    </tr>\n",
       "    <tr>\n",
       "      <th>27</th>\n",
       "      <td>rent_or_own</td>\n",
       "      <td>1.576693</td>\n",
       "    </tr>\n",
       "    <tr>\n",
       "      <th>14</th>\n",
       "      <td>health_worker</td>\n",
       "      <td>1.289463</td>\n",
       "    </tr>\n",
       "    <tr>\n",
       "      <th>5</th>\n",
       "      <td>behavioral_face_mask</td>\n",
       "      <td>1.170138</td>\n",
       "    </tr>\n",
       "    <tr>\n",
       "      <th>13</th>\n",
       "      <td>child_under_6_months</td>\n",
       "      <td>1.126068</td>\n",
       "    </tr>\n",
       "    <tr>\n",
       "      <th>3</th>\n",
       "      <td>behavioral_antiviral_meds</td>\n",
       "      <td>1.119979</td>\n",
       "    </tr>\n",
       "  </tbody>\n",
       "</table>\n",
       "</div>"
      ],
      "text/plain": [
       "                        feature        VIF\n",
       "15  opinion_h1n1_vacc_effective  21.992887\n",
       "18  opinion_seas_vacc_effective  21.382281\n",
       "23                         race   9.078943\n",
       "19            opinion_seas_risk   8.387860\n",
       "16            opinion_h1n1_risk   7.767831\n",
       "6         behavioral_wash_hands   7.681316\n",
       "1                  h1n1_concern   6.435400\n",
       "2                h1n1_knowledge   6.396391\n",
       "17  opinion_h1n1_sick_from_vacc   6.026470\n",
       "4          behavioral_avoidance   4.802432\n",
       "21                    age_group   4.799676\n",
       "20  opinion_seas_sick_from_vacc   4.702912\n",
       "9         behavioral_touch_face   4.146136\n",
       "0                 respondent_id   3.820501\n",
       "22                    education   3.679299\n",
       "30             household_adults   2.946521\n",
       "11         doctor_recc_seasonal   2.577922\n",
       "7   behavioral_large_gatherings   2.508983\n",
       "8       behavioral_outside_home   2.443086\n",
       "10             doctor_recc_h1n1   2.382688\n",
       "26               marital_status   2.295738\n",
       "29                   census_msa   2.006797\n",
       "28            employment_status   1.958330\n",
       "32                 h1n1_vaccine   1.782554\n",
       "24                          sex   1.760536\n",
       "25               income_poverty   1.754364\n",
       "31           household_children   1.744137\n",
       "12        chronic_med_condition   1.581827\n",
       "27                  rent_or_own   1.576693\n",
       "14                health_worker   1.289463\n",
       "5          behavioral_face_mask   1.170138\n",
       "13         child_under_6_months   1.126068\n",
       "3     behavioral_antiviral_meds   1.119979"
      ]
     },
     "execution_count": 33,
     "metadata": {},
     "output_type": "execute_result"
    }
   ],
   "source": [
    "# the independent variables set\n",
    "X = combined_train.drop(labels=[\"seasonal_vaccine\"],axis=1)\n",
    "  \n",
    "# VIF dataframe\n",
    "vif_data = pd.DataFrame()\n",
    "vif_data[\"feature\"] = X.columns\n",
    "  \n",
    "# calculating VIF for each feature\n",
    "vif_data[\"VIF\"] = [variance_inflation_factor(X.values, i)\n",
    "                          for i in range(len(X.columns))]\n",
    "  \n",
    "pd.DataFrame(vif_data).sort_values(by=['VIF'], ascending=False)"
   ]
  },
  {
   "cell_type": "markdown",
   "metadata": {},
   "source": [
    "### Creating  baseline models."
   ]
  },
  {
   "cell_type": "markdown",
   "metadata": {},
   "source": [
    "> To start off,several models will be run with default setting,and decide which models to further tune."
   ]
  },
  {
   "cell_type": "code",
   "execution_count": 35,
   "metadata": {},
   "outputs": [
    {
     "name": "stdout",
     "output_type": "stream",
     "text": [
      "Raw Counts\n",
      "0    10254\n",
      "1     9388\n",
      "Name: seasonal_vaccine, dtype: int64\n",
      "\n",
      "Dummy accuracy\n",
      "0    0.522045\n",
      "1    0.477955\n",
      "Name: seasonal_vaccine, dtype: float64\n"
     ]
    }
   ],
   "source": [
    "# check the dummy accuracy of initial raw data\n",
    "print(\"Raw Counts\")\n",
    "print(combined_train[\"seasonal_vaccine\"].value_counts())\n",
    "print()\n",
    "print(\"Dummy accuracy\")\n",
    "print(combined_train[\"seasonal_vaccine\"].value_counts(normalize=True))\n"
   ]
  },
  {
   "cell_type": "code",
   "execution_count": 36,
   "metadata": {},
   "outputs": [],
   "source": [
    "#perform a train test split\n",
    "X = combined_train.drop(labels=[\"seasonal_vaccine\"],axis=1)\n",
    "y = combined_train[\"seasonal_vaccine\"]\n",
    "\n",
    "X_train, X_test, y_train, y_test = train_test_split(X, y, test_size = 0.2, random_state = 42)"
   ]
  },
  {
   "cell_type": "code",
   "execution_count": 37,
   "metadata": {},
   "outputs": [],
   "source": [
    "# Instantiate different classification models\n",
    "randomforest_model = RandomForestClassifier(random_state = 42)\n",
    "logisticreg_model = LogisticRegression(random_state = 42)\n",
    "decisiontree_model = DecisionTreeClassifier(random_state = 42)\n",
    "knn_model = KNeighborsClassifier()\n",
    "naivebayes_model = GaussianNB()"
   ]
  },
  {
   "cell_type": "code",
   "execution_count": 38,
   "metadata": {},
   "outputs": [],
   "source": [
    "#fit the models\n",
    "train_accuracy = []\n",
    "test_accuracy = []\n",
    "model_list = [randomforest_model,logisticreg_model, decisiontree_model, knn_model, naivebayes_model]\n",
    "for i in model_list:\n",
    "    i = i.fit(X_train, y_train)\n",
    "    ytrain_pred = i.predict(X_train)\n",
    "    ytest_pred = i.predict(X_test)\n",
    "    train_accuracy.append(accuracy_score(ytrain_pred, y_train))\n",
    "    test_accuracy.append(accuracy_score(ytest_pred, y_test))"
   ]
  },
  {
   "cell_type": "code",
   "execution_count": 39,
   "metadata": {},
   "outputs": [
    {
     "data": {
      "text/plain": [
       "[1.0, 0.7729905174059696, 1.0, 0.7230955259975816, 0.7648443963597021]"
      ]
     },
     "execution_count": 39,
     "metadata": {},
     "output_type": "execute_result"
    }
   ],
   "source": [
    "#display train set accuracy\n",
    "train_accuracy"
   ]
  },
  {
   "cell_type": "code",
   "execution_count": 40,
   "metadata": {},
   "outputs": [
    {
     "data": {
      "text/plain": [
       "[0.7984219903283278,\n",
       " 0.7790786459658946,\n",
       " 0.7042504454059557,\n",
       " 0.5329600407228302,\n",
       " 0.7582081954695852]"
      ]
     },
     "execution_count": 40,
     "metadata": {},
     "output_type": "execute_result"
    }
   ],
   "source": [
    "#display test set accuracy\n",
    "test_accuracy"
   ]
  },
  {
   "cell_type": "markdown",
   "metadata": {},
   "source": [
    "### Summary of the results"
   ]
  },
  {
   "cell_type": "markdown",
   "metadata": {},
   "source": [
    "- Random Forest classifier:Train accuracy:1.0,Test accuracy:0.798.\n",
    "- Logistic Regression model: Train accuracy:0.773,Test accuracy:0.779.\n",
    "- Decision Tree Classifier: Train accuracy:1.0,Test accuracy:0.704.\n",
    "- KNN model: Train accuracy:0.723,Test accuracy:0.533.\n",
    "- Naive Bayes model: Train accuracy:0.765,Test accuracy:0.758.\n",
    "\n",
    "\n",
    "> The models that will be tuned are the:Random Forest model,Decision Tree classifier and the logistic regression model\n",
    "."
   ]
  },
  {
   "cell_type": "markdown",
   "metadata": {},
   "source": [
    "### a) Random forest classifier"
   ]
  },
  {
   "cell_type": "code",
   "execution_count": 41,
   "metadata": {},
   "outputs": [],
   "source": [
    "# Defining the range of hyperparameters to search over\n",
    "param_grid = {\n",
    "    'n_estimators': [10, 50, 100, 200],\n",
    "    'max_depth': [None, 5, 10, 20],\n",
    "    'min_samples_leaf': [1, 2, 4, 8]\n",
    "}\n"
   ]
  },
  {
   "cell_type": "code",
   "execution_count": 42,
   "metadata": {},
   "outputs": [
    {
     "data": {
      "text/html": [
       "<style>#sk-container-id-1 {color: black;background-color: white;}#sk-container-id-1 pre{padding: 0;}#sk-container-id-1 div.sk-toggleable {background-color: white;}#sk-container-id-1 label.sk-toggleable__label {cursor: pointer;display: block;width: 100%;margin-bottom: 0;padding: 0.3em;box-sizing: border-box;text-align: center;}#sk-container-id-1 label.sk-toggleable__label-arrow:before {content: \"▸\";float: left;margin-right: 0.25em;color: #696969;}#sk-container-id-1 label.sk-toggleable__label-arrow:hover:before {color: black;}#sk-container-id-1 div.sk-estimator:hover label.sk-toggleable__label-arrow:before {color: black;}#sk-container-id-1 div.sk-toggleable__content {max-height: 0;max-width: 0;overflow: hidden;text-align: left;background-color: #f0f8ff;}#sk-container-id-1 div.sk-toggleable__content pre {margin: 0.2em;color: black;border-radius: 0.25em;background-color: #f0f8ff;}#sk-container-id-1 input.sk-toggleable__control:checked~div.sk-toggleable__content {max-height: 200px;max-width: 100%;overflow: auto;}#sk-container-id-1 input.sk-toggleable__control:checked~label.sk-toggleable__label-arrow:before {content: \"▾\";}#sk-container-id-1 div.sk-estimator input.sk-toggleable__control:checked~label.sk-toggleable__label {background-color: #d4ebff;}#sk-container-id-1 div.sk-label input.sk-toggleable__control:checked~label.sk-toggleable__label {background-color: #d4ebff;}#sk-container-id-1 input.sk-hidden--visually {border: 0;clip: rect(1px 1px 1px 1px);clip: rect(1px, 1px, 1px, 1px);height: 1px;margin: -1px;overflow: hidden;padding: 0;position: absolute;width: 1px;}#sk-container-id-1 div.sk-estimator {font-family: monospace;background-color: #f0f8ff;border: 1px dotted black;border-radius: 0.25em;box-sizing: border-box;margin-bottom: 0.5em;}#sk-container-id-1 div.sk-estimator:hover {background-color: #d4ebff;}#sk-container-id-1 div.sk-parallel-item::after {content: \"\";width: 100%;border-bottom: 1px solid gray;flex-grow: 1;}#sk-container-id-1 div.sk-label:hover label.sk-toggleable__label {background-color: #d4ebff;}#sk-container-id-1 div.sk-serial::before {content: \"\";position: absolute;border-left: 1px solid gray;box-sizing: border-box;top: 0;bottom: 0;left: 50%;z-index: 0;}#sk-container-id-1 div.sk-serial {display: flex;flex-direction: column;align-items: center;background-color: white;padding-right: 0.2em;padding-left: 0.2em;position: relative;}#sk-container-id-1 div.sk-item {position: relative;z-index: 1;}#sk-container-id-1 div.sk-parallel {display: flex;align-items: stretch;justify-content: center;background-color: white;position: relative;}#sk-container-id-1 div.sk-item::before, #sk-container-id-1 div.sk-parallel-item::before {content: \"\";position: absolute;border-left: 1px solid gray;box-sizing: border-box;top: 0;bottom: 0;left: 50%;z-index: -1;}#sk-container-id-1 div.sk-parallel-item {display: flex;flex-direction: column;z-index: 1;position: relative;background-color: white;}#sk-container-id-1 div.sk-parallel-item:first-child::after {align-self: flex-end;width: 50%;}#sk-container-id-1 div.sk-parallel-item:last-child::after {align-self: flex-start;width: 50%;}#sk-container-id-1 div.sk-parallel-item:only-child::after {width: 0;}#sk-container-id-1 div.sk-dashed-wrapped {border: 1px dashed gray;margin: 0 0.4em 0.5em 0.4em;box-sizing: border-box;padding-bottom: 0.4em;background-color: white;}#sk-container-id-1 div.sk-label label {font-family: monospace;font-weight: bold;display: inline-block;line-height: 1.2em;}#sk-container-id-1 div.sk-label-container {text-align: center;}#sk-container-id-1 div.sk-container {/* jupyter's `normalize.less` sets `[hidden] { display: none; }` but bootstrap.min.css set `[hidden] { display: none !important; }` so we also need the `!important` here to be able to override the default hidden behavior on the sphinx rendered scikit-learn.org. See: https://github.com/scikit-learn/scikit-learn/issues/21755 */display: inline-block !important;position: relative;}#sk-container-id-1 div.sk-text-repr-fallback {display: none;}</style><div id=\"sk-container-id-1\" class=\"sk-top-container\"><div class=\"sk-text-repr-fallback\"><pre>GridSearchCV(cv=5, estimator=RandomForestClassifier(), n_jobs=-1,\n",
       "             param_grid={&#x27;max_depth&#x27;: [None, 5, 10, 20],\n",
       "                         &#x27;min_samples_leaf&#x27;: [1, 2, 4, 8],\n",
       "                         &#x27;n_estimators&#x27;: [10, 50, 100, 200]})</pre><b>In a Jupyter environment, please rerun this cell to show the HTML representation or trust the notebook. <br />On GitHub, the HTML representation is unable to render, please try loading this page with nbviewer.org.</b></div><div class=\"sk-container\" hidden><div class=\"sk-item sk-dashed-wrapped\"><div class=\"sk-label-container\"><div class=\"sk-label sk-toggleable\"><input class=\"sk-toggleable__control sk-hidden--visually\" id=\"sk-estimator-id-1\" type=\"checkbox\" ><label for=\"sk-estimator-id-1\" class=\"sk-toggleable__label sk-toggleable__label-arrow\">GridSearchCV</label><div class=\"sk-toggleable__content\"><pre>GridSearchCV(cv=5, estimator=RandomForestClassifier(), n_jobs=-1,\n",
       "             param_grid={&#x27;max_depth&#x27;: [None, 5, 10, 20],\n",
       "                         &#x27;min_samples_leaf&#x27;: [1, 2, 4, 8],\n",
       "                         &#x27;n_estimators&#x27;: [10, 50, 100, 200]})</pre></div></div></div><div class=\"sk-parallel\"><div class=\"sk-parallel-item\"><div class=\"sk-item\"><div class=\"sk-label-container\"><div class=\"sk-label sk-toggleable\"><input class=\"sk-toggleable__control sk-hidden--visually\" id=\"sk-estimator-id-2\" type=\"checkbox\" ><label for=\"sk-estimator-id-2\" class=\"sk-toggleable__label sk-toggleable__label-arrow\">estimator: RandomForestClassifier</label><div class=\"sk-toggleable__content\"><pre>RandomForestClassifier()</pre></div></div></div><div class=\"sk-serial\"><div class=\"sk-item\"><div class=\"sk-estimator sk-toggleable\"><input class=\"sk-toggleable__control sk-hidden--visually\" id=\"sk-estimator-id-3\" type=\"checkbox\" ><label for=\"sk-estimator-id-3\" class=\"sk-toggleable__label sk-toggleable__label-arrow\">RandomForestClassifier</label><div class=\"sk-toggleable__content\"><pre>RandomForestClassifier()</pre></div></div></div></div></div></div></div></div></div></div>"
      ],
      "text/plain": [
       "GridSearchCV(cv=5, estimator=RandomForestClassifier(), n_jobs=-1,\n",
       "             param_grid={'max_depth': [None, 5, 10, 20],\n",
       "                         'min_samples_leaf': [1, 2, 4, 8],\n",
       "                         'n_estimators': [10, 50, 100, 200]})"
      ]
     },
     "execution_count": 42,
     "metadata": {},
     "output_type": "execute_result"
    }
   ],
   "source": [
    "# Initializing the Random Forest classifier\n",
    "rf = RandomForestClassifier()\n",
    "\n",
    "# Using GridSearchCV to perform a search over the hyperparameters set.\n",
    "grid_search = GridSearchCV(rf, param_grid, cv=5, n_jobs=-1)\n",
    "grid_search.fit(X_train, y_train)"
   ]
  },
  {
   "cell_type": "code",
   "execution_count": 43,
   "metadata": {},
   "outputs": [
    {
     "name": "stdout",
     "output_type": "stream",
     "text": [
      "Best parameters: {'max_depth': 20, 'min_samples_leaf': 2, 'n_estimators': 200}\n",
      "Best score: 0.8050654025303114\n"
     ]
    }
   ],
   "source": [
    "# The best hyperparameters and score can be obtained using the best_params_ and best_score_ attributes\n",
    "best_params = grid_search.best_params_\n",
    "best_score = grid_search.best_score_\n",
    "\n",
    "print(f\"Best parameters: {best_params}\")\n",
    "print(f\"Best score: {best_score}\")"
   ]
  },
  {
   "cell_type": "markdown",
   "metadata": {},
   "source": [
    "### b)Logistic regression model"
   ]
  },
  {
   "cell_type": "code",
   "execution_count": 44,
   "metadata": {},
   "outputs": [],
   "source": [
    "# Defining the hyperparameters to search\n",
    "param_grid = {'C': [0.1, 1, 10, 100, 1000],\n",
    "              'penalty': ['l1', 'l2']}"
   ]
  },
  {
   "cell_type": "code",
   "execution_count": 45,
   "metadata": {},
   "outputs": [
    {
     "name": "stdout",
     "output_type": "stream",
     "text": [
      "Best parameters:  {'C': 0.1, 'penalty': 'l2'}\n"
     ]
    }
   ],
   "source": [
    "# Initializing the logistic regression model\n",
    "logistic_regression = LogisticRegression()\n",
    "\n",
    "# Use GridSearchCV to perform hyperparameter tuning\n",
    "grid_search = GridSearchCV(logistic_regression, param_grid, cv=5)\n",
    "grid_search.fit(X_train, y_train)\n",
    "\n",
    "# Print the best parameters\n",
    "print(\"Best parameters: \", grid_search.best_params_)"
   ]
  },
  {
   "cell_type": "code",
   "execution_count": 46,
   "metadata": {},
   "outputs": [
    {
     "name": "stdout",
     "output_type": "stream",
     "text": [
      "Accuracy on test set:  0.7895138712140494\n"
     ]
    }
   ],
   "source": [
    "# Use the best parameters to train the final model\n",
    "logistic_regression = grid_search.best_estimator_\n",
    "logistic_regression.fit(X_train, y_train)\n",
    "\n",
    "# Evaluate the performance on the test set\n",
    "accuracy = logistic_regression.score(X_test, y_test)\n",
    "print(\"Accuracy on test set: \", accuracy)"
   ]
  },
  {
   "cell_type": "markdown",
   "metadata": {},
   "source": [
    "### c) Decision Tree classifier"
   ]
  },
  {
   "cell_type": "code",
   "execution_count": 47,
   "metadata": {},
   "outputs": [],
   "source": [
    "# Define the hyperparameters to search\n",
    "param_grid = {'max_depth': [2, 3, 4, 5, 6, 7, 8, 9, 10],\n",
    "              'min_samples_split': [2, 3, 4, 5, 6, 7, 8, 9, 10]}"
   ]
  },
  {
   "cell_type": "code",
   "execution_count": 48,
   "metadata": {},
   "outputs": [
    {
     "name": "stdout",
     "output_type": "stream",
     "text": [
      "Best parameters:  {'max_depth': 6, 'min_samples_split': 8}\n"
     ]
    }
   ],
   "source": [
    "# Initialize the decision tree classifier\n",
    "dt = DecisionTreeClassifier()\n",
    "\n",
    "# Use GridSearchCV to perform hyperparameter tuning\n",
    "grid_search = GridSearchCV(dt, param_grid, cv=5)\n",
    "grid_search.fit(X_train, y_train)\n",
    "\n",
    "# Print the best parameters\n",
    "print(\"Best parameters: \", grid_search.best_params_)"
   ]
  },
  {
   "cell_type": "code",
   "execution_count": 49,
   "metadata": {},
   "outputs": [
    {
     "name": "stdout",
     "output_type": "stream",
     "text": [
      "Accuracy on test set:  0.787223212013235\n"
     ]
    }
   ],
   "source": [
    "# Use the best parameters to train the final model\n",
    "dt = grid_search.best_estimator_\n",
    "dt.fit(X_train, y_train)\n",
    "\n",
    "# Evaluate the performance on the test set\n",
    "accuracy = dt.score(X_test, y_test)\n",
    "print(\"Accuracy on test set: \", accuracy)"
   ]
  },
  {
   "cell_type": "markdown",
   "metadata": {},
   "source": [
    "### Evaluation"
   ]
  },
  {
   "cell_type": "markdown",
   "metadata": {},
   "source": [
    "> The model with the best performance,was the Random forest classifier.A model with the best parameters will be instantiated."
   ]
  },
  {
   "cell_type": "code",
   "execution_count": 54,
   "metadata": {},
   "outputs": [],
   "source": [
    "#initialize the classifier\n",
    "random_f_finalmodel = RandomForestClassifier(max_depth =20, min_samples_leaf= 2, n_estimators= 200)"
   ]
  },
  {
   "cell_type": "code",
   "execution_count": 55,
   "metadata": {},
   "outputs": [
    {
     "data": {
      "text/html": [
       "<style>#sk-container-id-3 {color: black;background-color: white;}#sk-container-id-3 pre{padding: 0;}#sk-container-id-3 div.sk-toggleable {background-color: white;}#sk-container-id-3 label.sk-toggleable__label {cursor: pointer;display: block;width: 100%;margin-bottom: 0;padding: 0.3em;box-sizing: border-box;text-align: center;}#sk-container-id-3 label.sk-toggleable__label-arrow:before {content: \"▸\";float: left;margin-right: 0.25em;color: #696969;}#sk-container-id-3 label.sk-toggleable__label-arrow:hover:before {color: black;}#sk-container-id-3 div.sk-estimator:hover label.sk-toggleable__label-arrow:before {color: black;}#sk-container-id-3 div.sk-toggleable__content {max-height: 0;max-width: 0;overflow: hidden;text-align: left;background-color: #f0f8ff;}#sk-container-id-3 div.sk-toggleable__content pre {margin: 0.2em;color: black;border-radius: 0.25em;background-color: #f0f8ff;}#sk-container-id-3 input.sk-toggleable__control:checked~div.sk-toggleable__content {max-height: 200px;max-width: 100%;overflow: auto;}#sk-container-id-3 input.sk-toggleable__control:checked~label.sk-toggleable__label-arrow:before {content: \"▾\";}#sk-container-id-3 div.sk-estimator input.sk-toggleable__control:checked~label.sk-toggleable__label {background-color: #d4ebff;}#sk-container-id-3 div.sk-label input.sk-toggleable__control:checked~label.sk-toggleable__label {background-color: #d4ebff;}#sk-container-id-3 input.sk-hidden--visually {border: 0;clip: rect(1px 1px 1px 1px);clip: rect(1px, 1px, 1px, 1px);height: 1px;margin: -1px;overflow: hidden;padding: 0;position: absolute;width: 1px;}#sk-container-id-3 div.sk-estimator {font-family: monospace;background-color: #f0f8ff;border: 1px dotted black;border-radius: 0.25em;box-sizing: border-box;margin-bottom: 0.5em;}#sk-container-id-3 div.sk-estimator:hover {background-color: #d4ebff;}#sk-container-id-3 div.sk-parallel-item::after {content: \"\";width: 100%;border-bottom: 1px solid gray;flex-grow: 1;}#sk-container-id-3 div.sk-label:hover label.sk-toggleable__label {background-color: #d4ebff;}#sk-container-id-3 div.sk-serial::before {content: \"\";position: absolute;border-left: 1px solid gray;box-sizing: border-box;top: 0;bottom: 0;left: 50%;z-index: 0;}#sk-container-id-3 div.sk-serial {display: flex;flex-direction: column;align-items: center;background-color: white;padding-right: 0.2em;padding-left: 0.2em;position: relative;}#sk-container-id-3 div.sk-item {position: relative;z-index: 1;}#sk-container-id-3 div.sk-parallel {display: flex;align-items: stretch;justify-content: center;background-color: white;position: relative;}#sk-container-id-3 div.sk-item::before, #sk-container-id-3 div.sk-parallel-item::before {content: \"\";position: absolute;border-left: 1px solid gray;box-sizing: border-box;top: 0;bottom: 0;left: 50%;z-index: -1;}#sk-container-id-3 div.sk-parallel-item {display: flex;flex-direction: column;z-index: 1;position: relative;background-color: white;}#sk-container-id-3 div.sk-parallel-item:first-child::after {align-self: flex-end;width: 50%;}#sk-container-id-3 div.sk-parallel-item:last-child::after {align-self: flex-start;width: 50%;}#sk-container-id-3 div.sk-parallel-item:only-child::after {width: 0;}#sk-container-id-3 div.sk-dashed-wrapped {border: 1px dashed gray;margin: 0 0.4em 0.5em 0.4em;box-sizing: border-box;padding-bottom: 0.4em;background-color: white;}#sk-container-id-3 div.sk-label label {font-family: monospace;font-weight: bold;display: inline-block;line-height: 1.2em;}#sk-container-id-3 div.sk-label-container {text-align: center;}#sk-container-id-3 div.sk-container {/* jupyter's `normalize.less` sets `[hidden] { display: none; }` but bootstrap.min.css set `[hidden] { display: none !important; }` so we also need the `!important` here to be able to override the default hidden behavior on the sphinx rendered scikit-learn.org. See: https://github.com/scikit-learn/scikit-learn/issues/21755 */display: inline-block !important;position: relative;}#sk-container-id-3 div.sk-text-repr-fallback {display: none;}</style><div id=\"sk-container-id-3\" class=\"sk-top-container\"><div class=\"sk-text-repr-fallback\"><pre>RandomForestClassifier(max_depth=20, min_samples_leaf=2, n_estimators=200)</pre><b>In a Jupyter environment, please rerun this cell to show the HTML representation or trust the notebook. <br />On GitHub, the HTML representation is unable to render, please try loading this page with nbviewer.org.</b></div><div class=\"sk-container\" hidden><div class=\"sk-item\"><div class=\"sk-estimator sk-toggleable\"><input class=\"sk-toggleable__control sk-hidden--visually\" id=\"sk-estimator-id-5\" type=\"checkbox\" checked><label for=\"sk-estimator-id-5\" class=\"sk-toggleable__label sk-toggleable__label-arrow\">RandomForestClassifier</label><div class=\"sk-toggleable__content\"><pre>RandomForestClassifier(max_depth=20, min_samples_leaf=2, n_estimators=200)</pre></div></div></div></div></div>"
      ],
      "text/plain": [
       "RandomForestClassifier(max_depth=20, min_samples_leaf=2, n_estimators=200)"
      ]
     },
     "execution_count": 55,
     "metadata": {},
     "output_type": "execute_result"
    }
   ],
   "source": [
    "#fit the model \n",
    "random_f_finalmodel.fit(X_train,y_train)"
   ]
  },
  {
   "cell_type": "code",
   "execution_count": 56,
   "metadata": {},
   "outputs": [
    {
     "name": "stdout",
     "output_type": "stream",
     "text": [
      "log loss:  0.4401209768823195\n",
      "accuracy:  0.8093662509544414\n"
     ]
    }
   ],
   "source": [
    "preds = random_f_finalmodel.predict(X_test)\n",
    "probs = random_f_finalmodel.predict_proba(X_test)\n",
    "\n",
    "\n",
    "print(\"log loss: \", log_loss(y_test, probs))\n",
    "print(\"accuracy: \", accuracy_score(y_test, preds))\n",
    "#print(classification_report(y_test, preds, digits=3))"
   ]
  },
  {
   "cell_type": "markdown",
   "metadata": {},
   "source": [
    "> The accuracy of the final model is at 80.9% ."
   ]
  },
  {
   "cell_type": "code",
   "execution_count": 64,
   "metadata": {},
   "outputs": [
    {
     "data": {
      "image/png": "[encoded data removed]",
      "text/plain": [
       "<Figure size 720x720 with 1 Axes>"
      ]
     },
     "metadata": {
      "needs_background": "light"
     },
     "output_type": "display_data"
    }
   ],
   "source": [
    "#visualizing best features \n",
    "features = X_train.columns\n",
    "importances = random_f_finalmodel.feature_importances_\n",
    "indices = np.argsort(importances)[:10]\n",
    "\n",
    "# number of features to be displayed.\n",
    "num_features = 10 \n",
    "\n",
    "plt.figure(figsize=(10,10))\n",
    "plt.title('Feature Importances')\n",
    "plt.barh(range(len(indices)), importances[indices], color='y', align='center')\n",
    "plt.yticks(range(len(indices)), [features[i] for i in indices])\n",
    "plt.xlabel('Relative Importance')\n",
    "plt.show()"
   ]
  },
  {
   "cell_type": "markdown",
   "metadata": {},
   "source": [
    "#### Observations"
   ]
  },
  {
   "cell_type": "markdown",
   "metadata": {},
   "source": [
    "- From the feature importance,sex,marital status,whether one touches their face,whether one goes to large gatherings seem to stand out.\n"
   ]
  },
  {
   "cell_type": "markdown",
   "metadata": {},
   "source": [
    "#### Interpretation\n",
    "> The dummy model accuracy is 52.2%.\n",
    "\n",
    "> The final model accuracy is 80.9%.\n",
    "\n",
    "- This shows there was significant improvement from the dummy model."
   ]
  },
  {
   "cell_type": "markdown",
   "metadata": {},
   "source": [
    "# 8. Conclusions."
   ]
  },
  {
   "cell_type": "markdown",
   "metadata": {},
   "source": [
    "- The best working model was the random forest classifier with an accuracy of 80.7%.\n",
    "- The accuracy of the model aims in learning the demographics of people to work on to get vaccinated.\n",
    "- People with higher education have a more likelihood of getting the vaccine.\n",
    "- People in the health care industry have a higher chance of getting the vaccine.\n",
    "- Most people who have a more likelihood to get the vaccine are over 65 years.\n"
   ]
  },
  {
   "cell_type": "markdown",
   "metadata": {},
   "source": [
    "# 9. Recommendations"
   ]
  },
  {
   "cell_type": "markdown",
   "metadata": {},
   "source": [
    "- The foundation should create more awareness by using multiple chanels such as social media,websites,in order to reach people below 65 years as well.\n",
    "- The foundation should partner with community organizations to provide education about vaccination.\n",
    "- They should perform further investigation on what parameters that need to be added to improve model accuracy."
   ]
  }
 ],
 "metadata": {
  "kernelspec": {
   "display_name": "Python 3",
   "language": "python",
   "name": "python3"
  },
  "language_info": {
   "codemirror_mode": {
    "name": "ipython",
    "version": 3
   },
   "file_extension": ".py",
   "mimetype": "text/x-python",
   "name": "python",
   "nbconvert_exporter": "python",
   "pygments_lexer": "ipython3",
   "version": "3.8.5"
  }
 },
 "nbformat": 4,
 "nbformat_minor": 4
}
